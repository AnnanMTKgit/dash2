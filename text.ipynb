{
 "cells": [
  {
   "cell_type": "code",
   "execution_count": 1,
   "metadata": {},
   "outputs": [
    {
     "data": {
      "application/vnd.plotly.v1+json": {
       "config": {
        "plotlyServerURL": "https://plot.ly"
       },
       "data": [
        {
         "hoverinfo": "label+percent+value",
         "labels": [
          "A (50.0%)",
          "B (30.0%)",
          "C (15.0%)",
          "D (5.0%)"
         ],
         "legendgroup": "legend",
         "marker": {
          "colors": [
           "#636EFA",
           "#EF553B",
           "#00CC96",
           "#AB63FA"
          ],
          "line": {
           "color": "#FFFFFF",
           "width": 2
          }
         },
         "pull": [
          0,
          0.1,
          0,
          0
         ],
         "showlegend": true,
         "sort": false,
         "textfont": {
          "color": "#FFFFFF",
          "size": 12
         },
         "textinfo": "value",
         "textposition": "inside",
         "type": "pie",
         "values": [
          50,
          30,
          15,
          5
         ]
        }
       ],
       "layout": {
        "annotations": [
         {
          "font": {
           "size": 20
          },
          "showarrow": false,
          "text": "UserName",
          "x": 0.5,
          "y": 0.5
         }
        ],
        "legend": {
         "font": {
          "size": 10
         },
         "itemsizing": "constant",
         "title": {
          "text": "Legend"
         }
        },
        "template": {
         "data": {
          "candlestick": [
           {
            "decreasing": {
             "line": {
              "color": "#000033"
             }
            },
            "increasing": {
             "line": {
              "color": "#000032"
             }
            },
            "type": "candlestick"
           }
          ],
          "contour": [
           {
            "colorscale": [
             [
              0,
              "#000011"
             ],
             [
              0.1111111111111111,
              "#000012"
             ],
             [
              0.2222222222222222,
              "#000013"
             ],
             [
              0.3333333333333333,
              "#000014"
             ],
             [
              0.4444444444444444,
              "#000015"
             ],
             [
              0.5555555555555556,
              "#000016"
             ],
             [
              0.6666666666666666,
              "#000017"
             ],
             [
              0.7777777777777778,
              "#000018"
             ],
             [
              0.8888888888888888,
              "#000019"
             ],
             [
              1,
              "#000020"
             ]
            ],
            "type": "contour"
           }
          ],
          "contourcarpet": [
           {
            "colorscale": [
             [
              0,
              "#000011"
             ],
             [
              0.1111111111111111,
              "#000012"
             ],
             [
              0.2222222222222222,
              "#000013"
             ],
             [
              0.3333333333333333,
              "#000014"
             ],
             [
              0.4444444444444444,
              "#000015"
             ],
             [
              0.5555555555555556,
              "#000016"
             ],
             [
              0.6666666666666666,
              "#000017"
             ],
             [
              0.7777777777777778,
              "#000018"
             ],
             [
              0.8888888888888888,
              "#000019"
             ],
             [
              1,
              "#000020"
             ]
            ],
            "type": "contourcarpet"
           }
          ],
          "heatmap": [
           {
            "colorscale": [
             [
              0,
              "#000011"
             ],
             [
              0.1111111111111111,
              "#000012"
             ],
             [
              0.2222222222222222,
              "#000013"
             ],
             [
              0.3333333333333333,
              "#000014"
             ],
             [
              0.4444444444444444,
              "#000015"
             ],
             [
              0.5555555555555556,
              "#000016"
             ],
             [
              0.6666666666666666,
              "#000017"
             ],
             [
              0.7777777777777778,
              "#000018"
             ],
             [
              0.8888888888888888,
              "#000019"
             ],
             [
              1,
              "#000020"
             ]
            ],
            "type": "heatmap"
           }
          ],
          "histogram2d": [
           {
            "colorscale": [
             [
              0,
              "#000011"
             ],
             [
              0.1111111111111111,
              "#000012"
             ],
             [
              0.2222222222222222,
              "#000013"
             ],
             [
              0.3333333333333333,
              "#000014"
             ],
             [
              0.4444444444444444,
              "#000015"
             ],
             [
              0.5555555555555556,
              "#000016"
             ],
             [
              0.6666666666666666,
              "#000017"
             ],
             [
              0.7777777777777778,
              "#000018"
             ],
             [
              0.8888888888888888,
              "#000019"
             ],
             [
              1,
              "#000020"
             ]
            ],
            "type": "histogram2d"
           }
          ],
          "icicle": [
           {
            "textfont": {
             "color": "white"
            },
            "type": "icicle"
           }
          ],
          "sankey": [
           {
            "textfont": {
             "color": "#000036"
            },
            "type": "sankey"
           }
          ],
          "scatter": [
           {
            "marker": {
             "line": {
              "width": 0
             }
            },
            "type": "scatter"
           }
          ],
          "table": [
           {
            "cells": {
             "fill": {
              "color": "#000038"
             },
             "font": {
              "color": "#000037"
             },
             "line": {
              "color": "#000039"
             }
            },
            "header": {
             "fill": {
              "color": "#000040"
             },
             "font": {
              "color": "#000036"
             },
             "line": {
              "color": "#000039"
             }
            },
            "type": "table"
           }
          ],
          "waterfall": [
           {
            "connector": {
             "line": {
              "color": "#000036",
              "width": 2
             }
            },
            "decreasing": {
             "marker": {
              "color": "#000033"
             }
            },
            "increasing": {
             "marker": {
              "color": "#000032"
             }
            },
            "totals": {
             "marker": {
              "color": "#000034"
             }
            },
            "type": "waterfall"
           }
          ]
         },
         "layout": {
          "coloraxis": {
           "colorscale": [
            [
             0,
             "#000011"
            ],
            [
             0.1111111111111111,
             "#000012"
            ],
            [
             0.2222222222222222,
             "#000013"
            ],
            [
             0.3333333333333333,
             "#000014"
            ],
            [
             0.4444444444444444,
             "#000015"
            ],
            [
             0.5555555555555556,
             "#000016"
            ],
            [
             0.6666666666666666,
             "#000017"
            ],
            [
             0.7777777777777778,
             "#000018"
            ],
            [
             0.8888888888888888,
             "#000019"
            ],
            [
             1,
             "#000020"
            ]
           ]
          },
          "colorscale": {
           "diverging": [
            [
             0,
             "#000021"
            ],
            [
             0.1,
             "#000022"
            ],
            [
             0.2,
             "#000023"
            ],
            [
             0.3,
             "#000024"
            ],
            [
             0.4,
             "#000025"
            ],
            [
             0.5,
             "#000026"
            ],
            [
             0.6,
             "#000027"
            ],
            [
             0.7,
             "#000028"
            ],
            [
             0.8,
             "#000029"
            ],
            [
             0.9,
             "#000030"
            ],
            [
             1,
             "#000031"
            ]
           ],
           "sequential": [
            [
             0,
             "#000011"
            ],
            [
             0.1111111111111111,
             "#000012"
            ],
            [
             0.2222222222222222,
             "#000013"
            ],
            [
             0.3333333333333333,
             "#000014"
            ],
            [
             0.4444444444444444,
             "#000015"
            ],
            [
             0.5555555555555556,
             "#000016"
            ],
            [
             0.6666666666666666,
             "#000017"
            ],
            [
             0.7777777777777778,
             "#000018"
            ],
            [
             0.8888888888888888,
             "#000019"
            ],
            [
             1,
             "#000020"
            ]
           ],
           "sequentialminus": [
            [
             0,
             "#000011"
            ],
            [
             0.1111111111111111,
             "#000012"
            ],
            [
             0.2222222222222222,
             "#000013"
            ],
            [
             0.3333333333333333,
             "#000014"
            ],
            [
             0.4444444444444444,
             "#000015"
            ],
            [
             0.5555555555555556,
             "#000016"
            ],
            [
             0.6666666666666666,
             "#000017"
            ],
            [
             0.7777777777777778,
             "#000018"
            ],
            [
             0.8888888888888888,
             "#000019"
            ],
            [
             1,
             "#000020"
            ]
           ]
          },
          "colorway": [
           "#000001",
           "#000002",
           "#000003",
           "#000004",
           "#000005",
           "#000006",
           "#000007",
           "#000008",
           "#000009",
           "#000010"
          ]
         }
        }
       }
      }
     },
     "metadata": {},
     "output_type": "display_data"
    }
   ],
   "source": [
    "import streamlit as st\n",
    "import plotly.graph_objects as go\n",
    "import pandas as pd\n",
    "\n",
    "# Sample data\n",
    "top = pd.DataFrame({'UserName': ['A', 'B', 'C', 'D'], 'Nom': [50, 30, 15, 5]})\n",
    "\n",
    "fig = go.Figure()\n",
    "\n",
    "top['Percent'] = top['Nom'] / top['Nom'].sum() * 100\n",
    "\n",
    "# Create formatted labels with percentages\n",
    "top['LabelWithPercent'] = top['UserName'] + ' (' + top['Percent'].round(2).astype(str) + '%)'\n",
    "\n",
    "\n",
    "fig.add_trace(go.Pie(\n",
    "    labels=top['LabelWithPercent'],\n",
    "    values=top['Nom'],\n",
    "    pull=[0.1 if i == 1 else 0 for i in range(len(top))],\n",
    "    marker=dict(colors=['#636EFA', '#EF553B', '#00CC96', '#AB63FA'], line=dict(color='#FFFFFF', width=2)),\n",
    "    textinfo='value', \n",
    "    textposition='inside',\n",
    "    textfont=dict(color='#FFFFFF', size=12),\n",
    "    hoverinfo='label+percent+value',\n",
    "    # Display percentages in the legend\n",
    "    legendgroup='legend',\n",
    "    showlegend=True,\n",
    "    sort=False,\n",
    "))\n",
    "\n",
    "# Update layout to include custom legend with percentages\n",
    "fig.update_layout(\n",
    "    legend=dict(\n",
    "        title=\"Legend\",\n",
    "        itemsizing='constant',\n",
    "        font=dict(size=10)\n",
    "    ),\n",
    "    annotations=[dict(text='UserName', x=0.5, y=0.5, font_size=20, showarrow=False)]\n",
    ")\n",
    "\n",
    "# Show the chart in Streamlit\n",
    "fig\n"
   ]
  },
  {
   "cell_type": "code",
   "execution_count": 1,
   "metadata": {},
   "outputs": [
    {
     "name": "stderr",
     "output_type": "stream",
     "text": [
      "2024-08-06 10:50:04.523 WARNING streamlit.runtime.caching.cache_data_api: No runtime found, using MemoryCacheStorageManager\n",
      "2024-08-06 10:50:04.595 \n",
      "  \u001b[33m\u001b[1mWarning:\u001b[0m to view this Streamlit app on a browser, run it with the following\n",
      "  command:\n",
      "\n",
      "    streamlit run /Users/obertys/miniforge3/lib/python3.10/site-packages/ipykernel_launcher.py [ARGUMENTS]\n",
      "2024-08-06 10:50:04.596 No runtime found, using MemoryCacheStorageManager\n"
     ]
    },
    {
     "data": {
      "text/plain": [
       "DeltaGenerator()"
      ]
     },
     "execution_count": 1,
     "metadata": {},
     "output_type": "execute_result"
    }
   ],
   "source": [
    "import streamlit as st\n",
    "import pydeck as pdk\n",
    "import pandas as pd\n",
    "\n",
    "# Sample data for the map\n",
    "DATA_URL = \"https://raw.githubusercontent.com/uber-common/deck.gl-data/master/website/bart-stations.json\"\n",
    "\n",
    "# Load data\n",
    "@st.cache_data\n",
    "def load_data():\n",
    "    data = pd.read_json(DATA_URL)\n",
    "    return data\n",
    "\n",
    "data = load_data()\n",
    "\n",
    "# Define a layer to display on a map\n",
    "layer = pdk.Layer(\n",
    "    \"ScatterplotLayer\",\n",
    "    data,\n",
    "    pickable=True,\n",
    "    opacity=0.8,\n",
    "    stroked=True,\n",
    "    filled=True,\n",
    "    radius_scale=10,\n",
    "    radius_min_pixels=5,\n",
    "    radius_max_pixels=100,\n",
    "    line_width_min_pixels=1,\n",
    "    get_position=\"coordinates\",\n",
    "    get_radius=100,\n",
    "    get_fill_color=[255, 140, 0],\n",
    "    get_line_color=[0, 0, 0],\n",
    ")\n",
    "\n",
    "# Set the viewport location\n",
    "view_state = pdk.ViewState(\n",
    "    latitude=37.7749,\n",
    "    longitude=-122.4194,\n",
    "    zoom=10,\n",
    "    pitch=50,\n",
    ")\n",
    "\n",
    "# Render the deck.gl map\n",
    "r = pdk.Deck(layers=[layer], initial_view_state=view_state, tooltip={\"text\": \"{name}\"})\n",
    "\n",
    "st.pydeck_chart(r)\n"
   ]
  },
  {
   "cell_type": "code",
   "execution_count": 28,
   "metadata": {},
   "outputs": [],
   "source": [
    "import pyodbc\n",
    "import pandas as pd\n",
    "import streamlit as st\n",
    "from datetime import datetime, timedelta\n",
    "\n",
    "# Define the connection parameters\n",
    "server = 'marlodj-ecobank-db-server.database.windows.net'\n",
    "database = 'MarlodjCore'\n",
    "username = 'marlodj-admin'\n",
    "password = 'tR0i48L658jQ'\n",
    "driver = '{ODBC Driver 17 for SQL Server}'\n",
    "#MARS_Connection='yes'\n",
    "# Create the connection string\n",
    "connection_string = (\n",
    "    f'DRIVER={driver};'\n",
    "    f'SERVER={server};'\n",
    "    f'PORT=1433;'\n",
    "    f'DATABASE={database};'\n",
    "    f'UID={username};'\n",
    "    f'PWD={password};'\n",
    "    f'PWD={password};'\n",
    "    # f'TRUSTED_CONNECTION=yes;'\n",
    ")\n",
    "\n",
    "\n",
    "\n",
    "# Establish the connection\n",
    "connection = pyodbc.connect(connection_string)\n",
    "import pyodbc\n",
    "from datetime import datetime, timedelta\n",
    "\n",
    "def get_previous_workdays(date, days_back):\n",
    "    workdays = []\n",
    "    # Si la date actuelle est un jour ouvrable, l'ajouter à la liste\n",
    "    if date.weekday() < 5:\n",
    "        workdays.append(date.strftime('%Y-%m-%d'))\n",
    "    # Continuer à ajouter les jours ouvrables précédents\n",
    "    while len(workdays) < days_back:\n",
    "        date -= timedelta(days=1)\n",
    "        if date.weekday() < 5:  # 0-4 correspond à lundi-vendredi\n",
    "            workdays.append(date.strftime('%Y-%m-%d'))\n",
    "    return workdays\n",
    "\n",
    "# Fonction pour sélectionner les données\n",
    "# def view_all_data(days_back):\n",
    "#     today = datetime.now()\n",
    "#     workdays = get_previous_workdays(today, days_back)\n",
    "\n",
    "#     # Si la date actuelle est un jour ouvrable, l'ajouter à la liste workdays\n",
    "    \n",
    "#     # Convertir la liste workdays en tuple pour les paramètres de la requête SQL\n",
    "#     placeholders = tuple(workdays)\n",
    "#     nbs_params=','.join('?' for _ in range(len(workdays)))\n",
    "#     sql = f\"\"\"select u.FirstName,u.LastName,u.UserName, q.Date_Reservation,q.Date_Appel,TempAttenteMoyen,e.Nom, DATEDIFF(second,q.Date_Reservation,q.Date_Appel) as TempsAttenteReel,q.Date_Fin ,DATEDIFF(second,q.Date_Appel,q.Date_Fin) as TempOperation,s.NomService from reservation r ,[User] u,Etat e, queue q,Service s where r.id= q.reservationId and r.ServiceId=s.Id and u.Id=q.userId and e.Id=q.EtatId and \n",
    "#         CAST(q.Date_Reservation AS DATE) IN ({nbs_params}) ORDER BY q.Date_Reservation DESC\n",
    "#     \"\"\"\n",
    "#     df = pd.read_sql_query(sql, connection,params=placeholders)\n",
    "    \n",
    "#     return df\n",
    "\n",
    "def view_all_data(start_date, end_date):\n",
    "\n",
    "    sql = f\"\"\"select u.FirstName,u.LastName,u.UserName, q.Date_Reservation,q.Date_Appel,TempAttenteMoyen, DATEDIFF(second,q.Date_Reservation,q.Date_Appel) as TempsAttenteReel,q.Date_Fin ,DATEDIFF(second,q.Date_Appel,q.Date_Fin) as TempOperation,e.Nom\n",
    ",s.NomService,r.TypeOperationId,r.AgenceId ,a.NomAgence,a.Capacites from reservation r ,[User] u,Etat e, queue q,Service s,Agence a where r.id= q.reservationId and r.ServiceId=s.Id and u.Id=q.userId and e.Id=q.EtatId and \n",
    "        a.Id=r.AgenceId and CAST(q.Date_Reservation AS DATE) BETWEEN CAST(? AS datetime) AND CAST(? AS datetime) ORDER BY q.Date_Reservation DESC\n",
    "    \"\"\"\n",
    "    df = pd.read_sql_query(sql, connection,params=(start_date, end_date), index_col=None)\n",
    "    \n",
    "    return df\n",
    "\n",
    "def view_queue(start_date, end_date):\n",
    "   \n",
    "    sql = f\"\"\"select q.Date_Reservation,q.Date_Appel,TempAttenteMoyen, DATEDIFF(second,q.Date_Reservation,q.Date_Appel) as TempsAttenteReel,q.Date_Fin ,DATEDIFF(second,q.Date_Appel,q.Date_Fin) as TempOperation,e.Nom\n",
    ",s.NomService,r.TypeOperationId,r.AgenceId ,a.NomAgence,a.Capacites from reservation r , queue q ,Service s ,Agence a,Etat e where r.id= q.reservationId and r.ServiceId=s.Id and e.Id=q.EtatId\n",
    "        and a.Id=r.AgenceId and CAST(q.Date_Reservation AS DATE) BETWEEN CAST(? AS datetime) AND CAST(? AS datetime) ORDER BY q.Date_Reservation DESC\n",
    "    \"\"\"\n",
    "    df = pd.read_sql_query(sql, connection,params=(start_date, end_date), index_col=None)\n",
    "\n",
    "    return df  \n",
    "\n",
    "def get_sqlData():\n",
    "    sql=f\"\"\" SELECT \n",
    "    u.FirstName,\n",
    "    u.LastName,\n",
    "    u.UserName,\n",
    "    q.Date_Reservation,\n",
    "    q.Date_Appel,\n",
    "    q.TempAttenteMoyen,\n",
    "    DATEDIFF(second, q.Date_Reservation, q.Date_Appel) as TempsAttenteReel,\n",
    "    q.Date_Fin,\n",
    "    DATEDIFF(second, q.Date_Appel, q.Date_Fin) as TempOperation,\n",
    "    e.Nom ,\n",
    "    s.NomService,\n",
    "    t.Label as Type_Operation,\n",
    "    r.AgenceId,\n",
    "    a.NomAgence,\n",
    "    a.Capacites,\n",
    "    a.Longitude,\n",
    "    a.Latitude\n",
    "FROM \n",
    "    reservation r\n",
    "    LEFT JOIN TypeOperation t ON t.Id=r.TypeOperationId\n",
    "    LEFT JOIN queue q ON r.id = q.reservationId\n",
    "    LEFT JOIN Service s ON r.ServiceId = s.Id\n",
    "    LEFT JOIN [User] u ON u.Id = q.userId  -- Utilisation de LEFT JOIN pour inclure les valeurs nulles\n",
    "    LEFT JOIN Etat e ON e.Id = q.EtatId\n",
    "    LEFT JOIN Agence a ON a.Id = r.AgenceId\n",
    "WHERE Date_Reservation is not NULL and CAST(q.Date_Reservation AS DATE) BETWEEN CAST('2024-06-07' AS datetime) AND CAST('2024-09-08' AS datetime) \n",
    "ORDER BY \n",
    "    q.Date_Reservation DESC;\n",
    "  \"\"\"\n",
    "    df = pd.read_sql_query(sql, connection, index_col=None)\n",
    "    df_all = df[df['UserName'].notna()].reset_index(drop=True)\n",
    "    df_queue=df.copy()\n",
    "    return  df_all,df_queue\n"
   ]
  },
  {
   "cell_type": "code",
   "execution_count": 29,
   "metadata": {},
   "outputs": [
    {
     "name": "stderr",
     "output_type": "stream",
     "text": [
      "/Users/obertys/miniforge3/lib/python3.10/site-packages/pandas/io/sql.py:761: UserWarning: pandas only support SQLAlchemy connectable(engine/connection) ordatabase string URI or sqlite3 DBAPI2 connectionother DBAPI2 objects are not tested, please consider using SQLAlchemy\n",
      "  warnings.warn(\n"
     ]
    }
   ],
   "source": [
    "data,_=get_sqlData()"
   ]
  },
  {
   "cell_type": "code",
   "execution_count": 30,
   "metadata": {},
   "outputs": [],
   "source": [
    "df=data.copy()"
   ]
  },
  {
   "cell_type": "code",
   "execution_count": 32,
   "metadata": {},
   "outputs": [
    {
     "data": {
      "text/html": [
       "\n",
       "<div id=\"altair-viz-edd8f26c6c094604ad47289379f832e3\"></div>\n",
       "<script type=\"text/javascript\">\n",
       "  var VEGA_DEBUG = (typeof VEGA_DEBUG == \"undefined\") ? {} : VEGA_DEBUG;\n",
       "  (function(spec, embedOpt){\n",
       "    let outputDiv = document.currentScript.previousElementSibling;\n",
       "    if (outputDiv.id !== \"altair-viz-edd8f26c6c094604ad47289379f832e3\") {\n",
       "      outputDiv = document.getElementById(\"altair-viz-edd8f26c6c094604ad47289379f832e3\");\n",
       "    }\n",
       "    const paths = {\n",
       "      \"vega\": \"https://cdn.jsdelivr.net/npm//vega@5?noext\",\n",
       "      \"vega-lib\": \"https://cdn.jsdelivr.net/npm//vega-lib?noext\",\n",
       "      \"vega-lite\": \"https://cdn.jsdelivr.net/npm//vega-lite@4.17.0?noext\",\n",
       "      \"vega-embed\": \"https://cdn.jsdelivr.net/npm//vega-embed@6?noext\",\n",
       "    };\n",
       "\n",
       "    function maybeLoadScript(lib, version) {\n",
       "      var key = `${lib.replace(\"-\", \"\")}_version`;\n",
       "      return (VEGA_DEBUG[key] == version) ?\n",
       "        Promise.resolve(paths[lib]) :\n",
       "        new Promise(function(resolve, reject) {\n",
       "          var s = document.createElement('script');\n",
       "          document.getElementsByTagName(\"head\")[0].appendChild(s);\n",
       "          s.async = true;\n",
       "          s.onload = () => {\n",
       "            VEGA_DEBUG[key] = version;\n",
       "            return resolve(paths[lib]);\n",
       "          };\n",
       "          s.onerror = () => reject(`Error loading script: ${paths[lib]}`);\n",
       "          s.src = paths[lib];\n",
       "        });\n",
       "    }\n",
       "\n",
       "    function showError(err) {\n",
       "      outputDiv.innerHTML = `<div class=\"error\" style=\"color:red;\">${err}</div>`;\n",
       "      throw err;\n",
       "    }\n",
       "\n",
       "    function displayChart(vegaEmbed) {\n",
       "      vegaEmbed(outputDiv, spec, embedOpt)\n",
       "        .catch(err => showError(`Javascript Error: ${err.message}<br>This usually means there's a typo in your chart specification. See the javascript console for the full traceback.`));\n",
       "    }\n",
       "\n",
       "    if(typeof define === \"function\" && define.amd) {\n",
       "      requirejs.config({paths});\n",
       "      require([\"vega-embed\"], displayChart, err => showError(`Error loading script: ${err.message}`));\n",
       "    } else {\n",
       "      maybeLoadScript(\"vega\", \"5\")\n",
       "        .then(() => maybeLoadScript(\"vega-lite\", \"4.17.0\"))\n",
       "        .then(() => maybeLoadScript(\"vega-embed\", \"6\"))\n",
       "        .catch(showError)\n",
       "        .then(() => displayChart(vegaEmbed));\n",
       "    }\n",
       "  })({\"config\": {\"view\": {\"continuousWidth\": 400, \"continuousHeight\": 300}}, \"data\": {\"name\": \"data-55a53f8e9dad90a549835465a0d51ddb\"}, \"mark\": \"bar\", \"encoding\": {\"color\": {\"field\": \"Type_Operation\", \"title\": \"Type d'Op\\u00e9ration\", \"type\": \"nominal\"}, \"order\": {\"field\": \"Type_Operation\", \"type\": \"nominal\"}, \"x\": {\"field\": \"NomService\", \"title\": \"Service\", \"type\": \"ordinal\"}, \"y\": {\"field\": \"Count\", \"title\": \"Nombre par Categorie\", \"type\": \"quantitative\"}}, \"height\": 400, \"title\": \"Nombre de type d'op\\u00e9ration par Service\", \"width\": 1000, \"$schema\": \"https://vega.github.io/schema/vega-lite/v4.17.0.json\", \"datasets\": {\"data-55a53f8e9dad90a549835465a0d51ddb\": [{\"NomService\": \"Caisse\", \"Type_Operation\": \"Autre_d\\u00e9p\\u00f4t\", \"Count\": 4}, {\"NomService\": \"Caisse\", \"Type_Operation\": \"Gros_Retrait\", \"Count\": 1}, {\"NomService\": \"Caisse\", \"Type_Operation\": \"Paiement_Frais_Visa_USA\", \"Count\": 4}, {\"NomService\": \"Caisse\", \"Type_Operation\": \"Retrait_Ch\\u00e8que\", \"Count\": 46}, {\"NomService\": \"Caisse\", \"Type_Operation\": \"Retrait_Esp\\u00e8ce\", \"Count\": 25}, {\"NomService\": \"Caisse\", \"Type_Operation\": \"Versement\", \"Count\": 43}, {\"NomService\": \"Caisse\", \"Type_Operation\": \"Western_Union\", \"Count\": 1}, {\"NomService\": \"Clientele\", \"Type_Operation\": \"Demande_Chequier\", \"Count\": 1}, {\"NomService\": \"Clientele\", \"Type_Operation\": \"Retrait_carte\", \"Count\": 11}]}}, {\"mode\": \"vega-lite\"});\n",
       "</script>"
      ],
      "text/plain": [
       "alt.Chart(...)"
      ]
     },
     "execution_count": 32,
     "metadata": {},
     "output_type": "execute_result"
    }
   ],
   "source": [
    "def stacked_service(data,type:str,concern:str,titre=\"Nombre de type d'opération par Service\"):\n",
    "    \"\"\"\n",
    "    Default values of type:\n",
    "    'TempsAttenteReel' and 'TempOperation'\n",
    "    \"\"\"\n",
    "    df=data.copy()\n",
    "    df=df.sample(n=min(5000, len(data)),replace=False)\n",
    "    df[type] = df[type].dropna()\n",
    "    \n",
    "    df=df.groupby([f'{type}', f'{concern}']).size().reset_index(name='Count')\n",
    "    \n",
    "    chart = alt.Chart(df).mark_bar().encode(\n",
    "        x=alt.X(f'{type}:O', title='Service'),\n",
    "        y=alt.Y('Count:Q', title='Nombre par Categorie'),\n",
    "        color=alt.Color(f'{concern}:N', title=\"Type d'Opération\"),\n",
    "        order=alt.Order(f'{concern}:N')  # Ensures the stacking order\n",
    "    ).properties(\n",
    "        width=1000,\n",
    "        height=400,\n",
    "        title=f\"{titre}\"\n",
    "    )\n",
    "    return chart\n",
    "\n",
    "stacked_service(df,type='NomService',concern='Type_Operation')"
   ]
  },
  {
   "cell_type": "code",
   "execution_count": 33,
   "metadata": {},
   "outputs": [
    {
     "data": {
      "application/vnd.plotly.v1+json": {
       "config": {
        "plotlyServerURL": "https://plot.ly"
       },
       "data": [
        {
         "alignmentgroup": "True",
         "hovertemplate": "Categorie=0-5min<br>Time Bins=%{x}<br>Counts=%{y}<extra></extra>",
         "legendgroup": "0-5min",
         "marker": {
          "color": "#000001",
          "pattern": {
           "shape": ""
          }
         },
         "name": "0-5min",
         "offsetgroup": "0-5min",
         "orientation": "v",
         "showlegend": true,
         "textposition": "auto",
         "texttemplate": "%{y}",
         "type": "bar",
         "x": [
          "2024-08-01",
          "2024-08-02",
          "2024-08-03"
         ],
         "xaxis": "x",
         "y": [
          10,
          8,
          0
         ],
         "yaxis": "y"
        },
        {
         "alignmentgroup": "True",
         "hovertemplate": "Categorie=5-10min<br>Time Bins=%{x}<br>Counts=%{y}<extra></extra>",
         "legendgroup": "5-10min",
         "marker": {
          "color": "#000002",
          "pattern": {
           "shape": ""
          }
         },
         "name": "5-10min",
         "offsetgroup": "5-10min",
         "orientation": "v",
         "showlegend": true,
         "textposition": "auto",
         "texttemplate": "%{y}",
         "type": "bar",
         "x": [
          "2024-08-01",
          "2024-08-02",
          "2024-08-03"
         ],
         "xaxis": "x",
         "y": [
          5,
          0,
          12
         ],
         "yaxis": "y"
        },
        {
         "alignmentgroup": "True",
         "hovertemplate": "Categorie=>10min<br>Time Bins=%{x}<br>Counts=%{y}<extra></extra>",
         "legendgroup": ">10min",
         "marker": {
          "color": "#000003",
          "pattern": {
           "shape": ""
          }
         },
         "name": ">10min",
         "offsetgroup": ">10min",
         "orientation": "v",
         "showlegend": true,
         "textposition": "auto",
         "texttemplate": "%{y}",
         "type": "bar",
         "x": [
          "2024-08-01",
          "2024-08-02",
          "2024-08-03"
         ],
         "xaxis": "x",
         "y": [
          0,
          3,
          7
         ],
         "yaxis": "y"
        }
       ],
       "layout": {
        "barmode": "relative",
        "legend": {
         "title": {
          "text": "Categorie"
         },
         "tracegroupgap": 0
        },
        "template": {
         "data": {
          "candlestick": [
           {
            "decreasing": {
             "line": {
              "color": "#000033"
             }
            },
            "increasing": {
             "line": {
              "color": "#000032"
             }
            },
            "type": "candlestick"
           }
          ],
          "contour": [
           {
            "colorscale": [
             [
              0,
              "#000011"
             ],
             [
              0.1111111111111111,
              "#000012"
             ],
             [
              0.2222222222222222,
              "#000013"
             ],
             [
              0.3333333333333333,
              "#000014"
             ],
             [
              0.4444444444444444,
              "#000015"
             ],
             [
              0.5555555555555556,
              "#000016"
             ],
             [
              0.6666666666666666,
              "#000017"
             ],
             [
              0.7777777777777778,
              "#000018"
             ],
             [
              0.8888888888888888,
              "#000019"
             ],
             [
              1,
              "#000020"
             ]
            ],
            "type": "contour"
           }
          ],
          "contourcarpet": [
           {
            "colorscale": [
             [
              0,
              "#000011"
             ],
             [
              0.1111111111111111,
              "#000012"
             ],
             [
              0.2222222222222222,
              "#000013"
             ],
             [
              0.3333333333333333,
              "#000014"
             ],
             [
              0.4444444444444444,
              "#000015"
             ],
             [
              0.5555555555555556,
              "#000016"
             ],
             [
              0.6666666666666666,
              "#000017"
             ],
             [
              0.7777777777777778,
              "#000018"
             ],
             [
              0.8888888888888888,
              "#000019"
             ],
             [
              1,
              "#000020"
             ]
            ],
            "type": "contourcarpet"
           }
          ],
          "heatmap": [
           {
            "colorscale": [
             [
              0,
              "#000011"
             ],
             [
              0.1111111111111111,
              "#000012"
             ],
             [
              0.2222222222222222,
              "#000013"
             ],
             [
              0.3333333333333333,
              "#000014"
             ],
             [
              0.4444444444444444,
              "#000015"
             ],
             [
              0.5555555555555556,
              "#000016"
             ],
             [
              0.6666666666666666,
              "#000017"
             ],
             [
              0.7777777777777778,
              "#000018"
             ],
             [
              0.8888888888888888,
              "#000019"
             ],
             [
              1,
              "#000020"
             ]
            ],
            "type": "heatmap"
           }
          ],
          "histogram2d": [
           {
            "colorscale": [
             [
              0,
              "#000011"
             ],
             [
              0.1111111111111111,
              "#000012"
             ],
             [
              0.2222222222222222,
              "#000013"
             ],
             [
              0.3333333333333333,
              "#000014"
             ],
             [
              0.4444444444444444,
              "#000015"
             ],
             [
              0.5555555555555556,
              "#000016"
             ],
             [
              0.6666666666666666,
              "#000017"
             ],
             [
              0.7777777777777778,
              "#000018"
             ],
             [
              0.8888888888888888,
              "#000019"
             ],
             [
              1,
              "#000020"
             ]
            ],
            "type": "histogram2d"
           }
          ],
          "icicle": [
           {
            "textfont": {
             "color": "white"
            },
            "type": "icicle"
           }
          ],
          "sankey": [
           {
            "textfont": {
             "color": "#000036"
            },
            "type": "sankey"
           }
          ],
          "scatter": [
           {
            "marker": {
             "line": {
              "width": 0
             }
            },
            "type": "scatter"
           }
          ],
          "table": [
           {
            "cells": {
             "fill": {
              "color": "#000038"
             },
             "font": {
              "color": "#000037"
             },
             "line": {
              "color": "#000039"
             }
            },
            "header": {
             "fill": {
              "color": "#000040"
             },
             "font": {
              "color": "#000036"
             },
             "line": {
              "color": "#000039"
             }
            },
            "type": "table"
           }
          ],
          "waterfall": [
           {
            "connector": {
             "line": {
              "color": "#000036",
              "width": 2
             }
            },
            "decreasing": {
             "marker": {
              "color": "#000033"
             }
            },
            "increasing": {
             "marker": {
              "color": "#000032"
             }
            },
            "totals": {
             "marker": {
              "color": "#000034"
             }
            },
            "type": "waterfall"
           }
          ]
         },
         "layout": {
          "coloraxis": {
           "colorscale": [
            [
             0,
             "#000011"
            ],
            [
             0.1111111111111111,
             "#000012"
            ],
            [
             0.2222222222222222,
             "#000013"
            ],
            [
             0.3333333333333333,
             "#000014"
            ],
            [
             0.4444444444444444,
             "#000015"
            ],
            [
             0.5555555555555556,
             "#000016"
            ],
            [
             0.6666666666666666,
             "#000017"
            ],
            [
             0.7777777777777778,
             "#000018"
            ],
            [
             0.8888888888888888,
             "#000019"
            ],
            [
             1,
             "#000020"
            ]
           ]
          },
          "colorscale": {
           "diverging": [
            [
             0,
             "#000021"
            ],
            [
             0.1,
             "#000022"
            ],
            [
             0.2,
             "#000023"
            ],
            [
             0.3,
             "#000024"
            ],
            [
             0.4,
             "#000025"
            ],
            [
             0.5,
             "#000026"
            ],
            [
             0.6,
             "#000027"
            ],
            [
             0.7,
             "#000028"
            ],
            [
             0.8,
             "#000029"
            ],
            [
             0.9,
             "#000030"
            ],
            [
             1,
             "#000031"
            ]
           ],
           "sequential": [
            [
             0,
             "#000011"
            ],
            [
             0.1111111111111111,
             "#000012"
            ],
            [
             0.2222222222222222,
             "#000013"
            ],
            [
             0.3333333333333333,
             "#000014"
            ],
            [
             0.4444444444444444,
             "#000015"
            ],
            [
             0.5555555555555556,
             "#000016"
            ],
            [
             0.6666666666666666,
             "#000017"
            ],
            [
             0.7777777777777778,
             "#000018"
            ],
            [
             0.8888888888888888,
             "#000019"
            ],
            [
             1,
             "#000020"
            ]
           ],
           "sequentialminus": [
            [
             0,
             "#000011"
            ],
            [
             0.1111111111111111,
             "#000012"
            ],
            [
             0.2222222222222222,
             "#000013"
            ],
            [
             0.3333333333333333,
             "#000014"
            ],
            [
             0.4444444444444444,
             "#000015"
            ],
            [
             0.5555555555555556,
             "#000016"
            ],
            [
             0.6666666666666666,
             "#000017"
            ],
            [
             0.7777777777777778,
             "#000018"
            ],
            [
             0.8888888888888888,
             "#000019"
            ],
            [
             1,
             "#000020"
            ]
           ]
          },
          "colorway": [
           "#000001",
           "#000002",
           "#000003",
           "#000004",
           "#000005",
           "#000006",
           "#000007",
           "#000008",
           "#000009",
           "#000010"
          ]
         }
        },
        "title": {
         "text": "Stacked Bar Chart Example"
        },
        "xaxis": {
         "anchor": "y",
         "domain": [
          0,
          1
         ],
         "title": {
          "text": "Time Bins"
         }
        },
        "yaxis": {
         "anchor": "x",
         "domain": [
          0,
          1
         ],
         "title": {
          "text": "Counts"
         }
        }
       }
      }
     },
     "metadata": {},
     "output_type": "display_data"
    }
   ],
   "source": [
    "import streamlit as st\n",
    "import pandas as pd\n",
    "import plotly.express as px\n",
    "\n",
    "# Sample DataFrame\n",
    "data = {\n",
    "    'Time_bins': ['2024-08-01', '2024-08-01', '2024-08-02', '2024-08-02', '2024-08-03', '2024-08-03'],\n",
    "    'Categorie': ['0-5min', '5-10min', '0-5min', '>10min', '5-10min', '>10min'],\n",
    "    'Counts': [10, 5, 8, 3, 12, 7]\n",
    "}\n",
    "\n",
    "df = pd.DataFrame(data)\n",
    "\n",
    "# Pivot the DataFrame\n",
    "df_pivot = df.pivot(index='Time_bins', columns='Categorie', values='Counts').fillna(0)\n",
    "\n",
    "# Plot the stacked bar chart\n",
    "fig = px.bar(df_pivot, \n",
    "             x=df_pivot.index, \n",
    "             y=df_pivot.columns,\n",
    "             title=\"Stacked Bar Chart Example\",\n",
    "             labels={'value':'Counts', 'Time_bins':'Time Bins'},\n",
    "             text_auto=True)\n",
    "\n",
    "# Display in Streamlit\n",
    "fig\n"
   ]
  },
  {
   "cell_type": "code",
   "execution_count": null,
   "metadata": {},
   "outputs": [],
   "source": []
  },
  {
   "cell_type": "code",
   "execution_count": 8,
   "metadata": {},
   "outputs": [],
   "source": [
    "import pandas as pd\n",
    "\n",
    "# Assume 'df' is your original dataframe with multiple columns\n",
    "def generate_agence(df,num_new_agencies):\n",
    "\n",
    "    rows_per_agency = int(len(df)/num_new_agencies)\n",
    "\n",
    "    new_agencies = [f'Agence_{i+1}' for i in range(num_new_agencies)]\n",
    "\n",
    "    # Update the 'NomAgence' column with new agency names in blocks of 500 rows\n",
    "    for i, agency in enumerate(new_agencies):\n",
    "        start_index = i * rows_per_agency\n",
    "        end_index = start_index + rows_per_agency\n",
    "        df.loc[start_index:end_index, 'NomAgence'] = agency\n",
    "    return df \n"
   ]
  },
  {
   "cell_type": "code",
   "execution_count": 13,
   "metadata": {},
   "outputs": [],
   "source": [
    "import numpy as np"
   ]
  },
  {
   "cell_type": "code",
   "execution_count": null,
   "metadata": {},
   "outputs": [],
   "source": []
  },
  {
   "cell_type": "code",
   "execution_count": null,
   "metadata": {},
   "outputs": [],
   "source": []
  },
  {
   "cell_type": "code",
   "execution_count": 120,
   "metadata": {},
   "outputs": [],
   "source": [
    "df['TempAttente']=df['TempsAttenteReel'].apply(lambda x: np.round(np.mean(x)/60).astype(int))\n"
   ]
  },
  {
   "cell_type": "code",
   "execution_count": 14,
   "metadata": {},
   "outputs": [],
   "source": [
    "df['Categorie']=df['TempsAttenteReel'].apply(lambda x: '0-5min' if 0<=np.round(np.mean(x)/60).astype(int)<=5 else '5-10min' if 5<=np.round(np.mean(x)/60).astype(int)<=10 else '>10min' )"
   ]
  },
  {
   "cell_type": "code",
   "execution_count": 17,
   "metadata": {},
   "outputs": [
    {
     "data": {
      "text/html": [
       "<div>\n",
       "<style scoped>\n",
       "    .dataframe tbody tr th:only-of-type {\n",
       "        vertical-align: middle;\n",
       "    }\n",
       "\n",
       "    .dataframe tbody tr th {\n",
       "        vertical-align: top;\n",
       "    }\n",
       "\n",
       "    .dataframe thead th {\n",
       "        text-align: right;\n",
       "    }\n",
       "</style>\n",
       "<table border=\"1\" class=\"dataframe\">\n",
       "  <thead>\n",
       "    <tr style=\"text-align: right;\">\n",
       "      <th></th>\n",
       "      <th>NomAgence</th>\n",
       "      <th>Categorie</th>\n",
       "      <th>Count</th>\n",
       "    </tr>\n",
       "  </thead>\n",
       "  <tbody>\n",
       "    <tr>\n",
       "      <th>0</th>\n",
       "      <td>Agence Principale</td>\n",
       "      <td>0-5min</td>\n",
       "      <td>8139</td>\n",
       "    </tr>\n",
       "    <tr>\n",
       "      <th>1</th>\n",
       "      <td>Agence Principale</td>\n",
       "      <td>5-10min</td>\n",
       "      <td>1850</td>\n",
       "    </tr>\n",
       "    <tr>\n",
       "      <th>2</th>\n",
       "      <td>Agence Principale</td>\n",
       "      <td>&gt;10min</td>\n",
       "      <td>1739</td>\n",
       "    </tr>\n",
       "    <tr>\n",
       "      <th>3</th>\n",
       "      <td>Agence Principale</td>\n",
       "      <td>NaN</td>\n",
       "      <td>117</td>\n",
       "    </tr>\n",
       "  </tbody>\n",
       "</table>\n",
       "</div>"
      ],
      "text/plain": [
       "           NomAgence Categorie  Count\n",
       "0  Agence Principale    0-5min   8139\n",
       "1  Agence Principale   5-10min   1850\n",
       "2  Agence Principale    >10min   1739\n",
       "3  Agence Principale       NaN    117"
      ]
     },
     "execution_count": 17,
     "metadata": {},
     "output_type": "execute_result"
    }
   ],
   "source": [
    "df.groupby(['NomAgence', 'Categorie']).size().reset_index(name='Count')"
   ]
  },
  {
   "cell_type": "code",
   "execution_count": 15,
   "metadata": {},
   "outputs": [],
   "source": [
    "import numpy as np\n",
    "df=data.copy()"
   ]
  },
  {
   "cell_type": "code",
   "execution_count": 16,
   "metadata": {},
   "outputs": [],
   "source": [
    "#df['TempOperation'] = df['TempOperation'].dropna()\n",
    "\n",
    "df['Categorie'] = df['TempOperation'].apply(lambda x: \n",
    "    '0-5min' if pd.notnull(x) and 0 <= np.round(x/60).astype(int) <= 5 else \n",
    "    '5-10min' if pd.notnull(x) and 5 < np.round(x/60).astype(int) <= 10 else \n",
    "    '>10min' if pd.notnull(x) else 'NaN'\n",
    ")"
   ]
  },
  {
   "cell_type": "code",
   "execution_count": null,
   "metadata": {},
   "outputs": [],
   "source": []
  },
  {
   "cell_type": "code",
   "execution_count": 6,
   "metadata": {},
   "outputs": [
    {
     "data": {
      "text/html": [
       "<div>\n",
       "<style scoped>\n",
       "    .dataframe tbody tr th:only-of-type {\n",
       "        vertical-align: middle;\n",
       "    }\n",
       "\n",
       "    .dataframe tbody tr th {\n",
       "        vertical-align: top;\n",
       "    }\n",
       "\n",
       "    .dataframe thead th {\n",
       "        text-align: right;\n",
       "    }\n",
       "</style>\n",
       "<table border=\"1\" class=\"dataframe\">\n",
       "  <thead>\n",
       "    <tr style=\"text-align: right;\">\n",
       "      <th></th>\n",
       "      <th>FirstName</th>\n",
       "      <th>LastName</th>\n",
       "      <th>UserName</th>\n",
       "      <th>Date_Reservation</th>\n",
       "      <th>Date_Appel</th>\n",
       "      <th>TempAttenteMoyen</th>\n",
       "      <th>TempsAttenteReel</th>\n",
       "      <th>Date_Fin</th>\n",
       "      <th>TempOperation</th>\n",
       "      <th>Nom</th>\n",
       "      <th>NomService</th>\n",
       "      <th>Type_Operation</th>\n",
       "      <th>AgenceId</th>\n",
       "      <th>NomAgence</th>\n",
       "      <th>Capacites</th>\n",
       "      <th>Longitude</th>\n",
       "      <th>Latitude</th>\n",
       "    </tr>\n",
       "  </thead>\n",
       "  <tbody>\n",
       "    <tr>\n",
       "      <th>0</th>\n",
       "      <td>SALIMATA EVE</td>\n",
       "      <td>CISSOKHO</td>\n",
       "      <td>SCISSOKHO</td>\n",
       "      <td>2024-08-16 16:01:16.890</td>\n",
       "      <td>2024-08-16 16:18:39.847</td>\n",
       "      <td>0.0</td>\n",
       "      <td>1043.0</td>\n",
       "      <td>NaT</td>\n",
       "      <td>NaN</td>\n",
       "      <td>En attente</td>\n",
       "      <td>Clientele</td>\n",
       "      <td>None</td>\n",
       "      <td>32</td>\n",
       "      <td>Agence Principale</td>\n",
       "      <td>30</td>\n",
       "      <td>-17.469949</td>\n",
       "      <td>14.70138</td>\n",
       "    </tr>\n",
       "    <tr>\n",
       "      <th>1</th>\n",
       "      <td>SALIMATA EVE</td>\n",
       "      <td>CISSOKHO</td>\n",
       "      <td>SCISSOKHO</td>\n",
       "      <td>2024-08-16 15:51:52.427</td>\n",
       "      <td>2024-08-16 16:15:01.707</td>\n",
       "      <td>0.0</td>\n",
       "      <td>1389.0</td>\n",
       "      <td>2024-08-16 16:18:39.843</td>\n",
       "      <td>218.0</td>\n",
       "      <td>Traitée</td>\n",
       "      <td>Clientele</td>\n",
       "      <td>None</td>\n",
       "      <td>32</td>\n",
       "      <td>Agence Principale</td>\n",
       "      <td>30</td>\n",
       "      <td>-17.469949</td>\n",
       "      <td>14.70138</td>\n",
       "    </tr>\n",
       "    <tr>\n",
       "      <th>2</th>\n",
       "      <td>SALIMATA EVE</td>\n",
       "      <td>CISSOKHO</td>\n",
       "      <td>SCISSOKHO</td>\n",
       "      <td>2024-08-16 15:40:33.110</td>\n",
       "      <td>2024-08-16 16:09:53.937</td>\n",
       "      <td>0.0</td>\n",
       "      <td>1760.0</td>\n",
       "      <td>2024-08-16 16:15:01.700</td>\n",
       "      <td>308.0</td>\n",
       "      <td>Traitée</td>\n",
       "      <td>Clientele</td>\n",
       "      <td>None</td>\n",
       "      <td>32</td>\n",
       "      <td>Agence Principale</td>\n",
       "      <td>30</td>\n",
       "      <td>-17.469949</td>\n",
       "      <td>14.70138</td>\n",
       "    </tr>\n",
       "    <tr>\n",
       "      <th>3</th>\n",
       "      <td>SALIMATA EVE</td>\n",
       "      <td>CISSOKHO</td>\n",
       "      <td>SCISSOKHO</td>\n",
       "      <td>2024-08-16 15:05:51.223</td>\n",
       "      <td>2024-08-16 16:09:00.723</td>\n",
       "      <td>0.0</td>\n",
       "      <td>3789.0</td>\n",
       "      <td>2024-08-16 16:09:53.933</td>\n",
       "      <td>53.0</td>\n",
       "      <td>Traitée</td>\n",
       "      <td>Clientele</td>\n",
       "      <td>None</td>\n",
       "      <td>32</td>\n",
       "      <td>Agence Principale</td>\n",
       "      <td>30</td>\n",
       "      <td>-17.469949</td>\n",
       "      <td>14.70138</td>\n",
       "    </tr>\n",
       "    <tr>\n",
       "      <th>4</th>\n",
       "      <td>SALIMATA EVE</td>\n",
       "      <td>CISSOKHO</td>\n",
       "      <td>SCISSOKHO</td>\n",
       "      <td>2024-08-16 14:44:14.333</td>\n",
       "      <td>2024-08-16 15:37:43.863</td>\n",
       "      <td>0.0</td>\n",
       "      <td>3209.0</td>\n",
       "      <td>2024-08-16 16:09:00.720</td>\n",
       "      <td>1877.0</td>\n",
       "      <td>Traitée</td>\n",
       "      <td>Clientele</td>\n",
       "      <td>None</td>\n",
       "      <td>32</td>\n",
       "      <td>Agence Principale</td>\n",
       "      <td>30</td>\n",
       "      <td>-17.469949</td>\n",
       "      <td>14.70138</td>\n",
       "    </tr>\n",
       "    <tr>\n",
       "      <th>...</th>\n",
       "      <td>...</td>\n",
       "      <td>...</td>\n",
       "      <td>...</td>\n",
       "      <td>...</td>\n",
       "      <td>...</td>\n",
       "      <td>...</td>\n",
       "      <td>...</td>\n",
       "      <td>...</td>\n",
       "      <td>...</td>\n",
       "      <td>...</td>\n",
       "      <td>...</td>\n",
       "      <td>...</td>\n",
       "      <td>...</td>\n",
       "      <td>...</td>\n",
       "      <td>...</td>\n",
       "      <td>...</td>\n",
       "      <td>...</td>\n",
       "    </tr>\n",
       "    <tr>\n",
       "      <th>11840</th>\n",
       "      <td>LEON MARCELIN</td>\n",
       "      <td>NDONG</td>\n",
       "      <td>LNDONG2</td>\n",
       "      <td>2024-06-07 07:32:27.427</td>\n",
       "      <td>2024-06-07 08:05:09.973</td>\n",
       "      <td>0.0</td>\n",
       "      <td>1962.0</td>\n",
       "      <td>2024-06-07 08:08:19.713</td>\n",
       "      <td>190.0</td>\n",
       "      <td>Traitée</td>\n",
       "      <td>Caisse</td>\n",
       "      <td>None</td>\n",
       "      <td>32</td>\n",
       "      <td>Agence Principale</td>\n",
       "      <td>30</td>\n",
       "      <td>-17.469949</td>\n",
       "      <td>14.70138</td>\n",
       "    </tr>\n",
       "    <tr>\n",
       "      <th>11841</th>\n",
       "      <td>AMINATA</td>\n",
       "      <td>SANE</td>\n",
       "      <td>amisane</td>\n",
       "      <td>2024-06-07 07:32:15.263</td>\n",
       "      <td>2024-06-07 07:59:42.827</td>\n",
       "      <td>0.0</td>\n",
       "      <td>1647.0</td>\n",
       "      <td>2024-06-07 08:13:43.730</td>\n",
       "      <td>841.0</td>\n",
       "      <td>Traitée</td>\n",
       "      <td>Caisse</td>\n",
       "      <td>None</td>\n",
       "      <td>32</td>\n",
       "      <td>Agence Principale</td>\n",
       "      <td>30</td>\n",
       "      <td>-17.469949</td>\n",
       "      <td>14.70138</td>\n",
       "    </tr>\n",
       "    <tr>\n",
       "      <th>11842</th>\n",
       "      <td>AMINATA</td>\n",
       "      <td>SANE</td>\n",
       "      <td>amisane</td>\n",
       "      <td>2024-06-07 07:32:07.150</td>\n",
       "      <td>2024-06-07 07:50:59.710</td>\n",
       "      <td>0.0</td>\n",
       "      <td>1132.0</td>\n",
       "      <td>2024-06-07 07:59:42.820</td>\n",
       "      <td>523.0</td>\n",
       "      <td>Traitée</td>\n",
       "      <td>Caisse</td>\n",
       "      <td>None</td>\n",
       "      <td>32</td>\n",
       "      <td>Agence Principale</td>\n",
       "      <td>30</td>\n",
       "      <td>-17.469949</td>\n",
       "      <td>14.70138</td>\n",
       "    </tr>\n",
       "    <tr>\n",
       "      <th>11843</th>\n",
       "      <td>AMINATA</td>\n",
       "      <td>SANE</td>\n",
       "      <td>amisane</td>\n",
       "      <td>2024-06-07 07:31:42.620</td>\n",
       "      <td>2024-06-07 07:50:48.230</td>\n",
       "      <td>0.0</td>\n",
       "      <td>1146.0</td>\n",
       "      <td>2024-06-07 07:50:59.703</td>\n",
       "      <td>11.0</td>\n",
       "      <td>Traitée</td>\n",
       "      <td>Caisse</td>\n",
       "      <td>None</td>\n",
       "      <td>32</td>\n",
       "      <td>Agence Principale</td>\n",
       "      <td>30</td>\n",
       "      <td>-17.469949</td>\n",
       "      <td>14.70138</td>\n",
       "    </tr>\n",
       "    <tr>\n",
       "      <th>11844</th>\n",
       "      <td>AMINATA</td>\n",
       "      <td>SANE</td>\n",
       "      <td>amisane</td>\n",
       "      <td>2024-06-07 07:31:39.767</td>\n",
       "      <td>2024-06-07 07:50:34.687</td>\n",
       "      <td>0.0</td>\n",
       "      <td>1135.0</td>\n",
       "      <td>2024-06-07 07:50:48.223</td>\n",
       "      <td>14.0</td>\n",
       "      <td>Traitée</td>\n",
       "      <td>Caisse</td>\n",
       "      <td>None</td>\n",
       "      <td>32</td>\n",
       "      <td>Agence Principale</td>\n",
       "      <td>30</td>\n",
       "      <td>-17.469949</td>\n",
       "      <td>14.70138</td>\n",
       "    </tr>\n",
       "  </tbody>\n",
       "</table>\n",
       "<p>11845 rows × 17 columns</p>\n",
       "</div>"
      ],
      "text/plain": [
       "            FirstName  LastName   UserName        Date_Reservation  \\\n",
       "0       SALIMATA EVE   CISSOKHO  SCISSOKHO 2024-08-16 16:01:16.890   \n",
       "1       SALIMATA EVE   CISSOKHO  SCISSOKHO 2024-08-16 15:51:52.427   \n",
       "2       SALIMATA EVE   CISSOKHO  SCISSOKHO 2024-08-16 15:40:33.110   \n",
       "3       SALIMATA EVE   CISSOKHO  SCISSOKHO 2024-08-16 15:05:51.223   \n",
       "4       SALIMATA EVE   CISSOKHO  SCISSOKHO 2024-08-16 14:44:14.333   \n",
       "...               ...       ...        ...                     ...   \n",
       "11840  LEON MARCELIN      NDONG    LNDONG2 2024-06-07 07:32:27.427   \n",
       "11841        AMINATA       SANE    amisane 2024-06-07 07:32:15.263   \n",
       "11842        AMINATA       SANE    amisane 2024-06-07 07:32:07.150   \n",
       "11843        AMINATA       SANE    amisane 2024-06-07 07:31:42.620   \n",
       "11844        AMINATA       SANE    amisane 2024-06-07 07:31:39.767   \n",
       "\n",
       "                   Date_Appel  TempAttenteMoyen  TempsAttenteReel  \\\n",
       "0     2024-08-16 16:18:39.847               0.0            1043.0   \n",
       "1     2024-08-16 16:15:01.707               0.0            1389.0   \n",
       "2     2024-08-16 16:09:53.937               0.0            1760.0   \n",
       "3     2024-08-16 16:09:00.723               0.0            3789.0   \n",
       "4     2024-08-16 15:37:43.863               0.0            3209.0   \n",
       "...                       ...               ...               ...   \n",
       "11840 2024-06-07 08:05:09.973               0.0            1962.0   \n",
       "11841 2024-06-07 07:59:42.827               0.0            1647.0   \n",
       "11842 2024-06-07 07:50:59.710               0.0            1132.0   \n",
       "11843 2024-06-07 07:50:48.230               0.0            1146.0   \n",
       "11844 2024-06-07 07:50:34.687               0.0            1135.0   \n",
       "\n",
       "                     Date_Fin  TempOperation         Nom NomService  \\\n",
       "0                         NaT            NaN  En attente  Clientele   \n",
       "1     2024-08-16 16:18:39.843          218.0     Traitée  Clientele   \n",
       "2     2024-08-16 16:15:01.700          308.0     Traitée  Clientele   \n",
       "3     2024-08-16 16:09:53.933           53.0     Traitée  Clientele   \n",
       "4     2024-08-16 16:09:00.720         1877.0     Traitée  Clientele   \n",
       "...                       ...            ...         ...        ...   \n",
       "11840 2024-06-07 08:08:19.713          190.0     Traitée     Caisse   \n",
       "11841 2024-06-07 08:13:43.730          841.0     Traitée     Caisse   \n",
       "11842 2024-06-07 07:59:42.820          523.0     Traitée     Caisse   \n",
       "11843 2024-06-07 07:50:59.703           11.0     Traitée     Caisse   \n",
       "11844 2024-06-07 07:50:48.223           14.0     Traitée     Caisse   \n",
       "\n",
       "      Type_Operation  AgenceId          NomAgence  Capacites  Longitude  \\\n",
       "0               None        32  Agence Principale         30 -17.469949   \n",
       "1               None        32  Agence Principale         30 -17.469949   \n",
       "2               None        32  Agence Principale         30 -17.469949   \n",
       "3               None        32  Agence Principale         30 -17.469949   \n",
       "4               None        32  Agence Principale         30 -17.469949   \n",
       "...              ...       ...                ...        ...        ...   \n",
       "11840           None        32  Agence Principale         30 -17.469949   \n",
       "11841           None        32  Agence Principale         30 -17.469949   \n",
       "11842           None        32  Agence Principale         30 -17.469949   \n",
       "11843           None        32  Agence Principale         30 -17.469949   \n",
       "11844           None        32  Agence Principale         30 -17.469949   \n",
       "\n",
       "       Latitude  \n",
       "0      14.70138  \n",
       "1      14.70138  \n",
       "2      14.70138  \n",
       "3      14.70138  \n",
       "4      14.70138  \n",
       "...         ...  \n",
       "11840  14.70138  \n",
       "11841  14.70138  \n",
       "11842  14.70138  \n",
       "11843  14.70138  \n",
       "11844  14.70138  \n",
       "\n",
       "[11845 rows x 17 columns]"
      ]
     },
     "execution_count": 6,
     "metadata": {},
     "output_type": "execute_result"
    }
   ],
   "source": [
    "data"
   ]
  },
  {
   "cell_type": "code",
   "execution_count": 27,
   "metadata": {},
   "outputs": [
    {
     "data": {
      "text/html": [
       "\n",
       "<div id=\"altair-viz-839780f013bd43a5875f81ffd8400e8d\"></div>\n",
       "<script type=\"text/javascript\">\n",
       "  var VEGA_DEBUG = (typeof VEGA_DEBUG == \"undefined\") ? {} : VEGA_DEBUG;\n",
       "  (function(spec, embedOpt){\n",
       "    let outputDiv = document.currentScript.previousElementSibling;\n",
       "    if (outputDiv.id !== \"altair-viz-839780f013bd43a5875f81ffd8400e8d\") {\n",
       "      outputDiv = document.getElementById(\"altair-viz-839780f013bd43a5875f81ffd8400e8d\");\n",
       "    }\n",
       "    const paths = {\n",
       "      \"vega\": \"https://cdn.jsdelivr.net/npm//vega@5?noext\",\n",
       "      \"vega-lib\": \"https://cdn.jsdelivr.net/npm//vega-lib?noext\",\n",
       "      \"vega-lite\": \"https://cdn.jsdelivr.net/npm//vega-lite@4.17.0?noext\",\n",
       "      \"vega-embed\": \"https://cdn.jsdelivr.net/npm//vega-embed@6?noext\",\n",
       "    };\n",
       "\n",
       "    function maybeLoadScript(lib, version) {\n",
       "      var key = `${lib.replace(\"-\", \"\")}_version`;\n",
       "      return (VEGA_DEBUG[key] == version) ?\n",
       "        Promise.resolve(paths[lib]) :\n",
       "        new Promise(function(resolve, reject) {\n",
       "          var s = document.createElement('script');\n",
       "          document.getElementsByTagName(\"head\")[0].appendChild(s);\n",
       "          s.async = true;\n",
       "          s.onload = () => {\n",
       "            VEGA_DEBUG[key] = version;\n",
       "            return resolve(paths[lib]);\n",
       "          };\n",
       "          s.onerror = () => reject(`Error loading script: ${paths[lib]}`);\n",
       "          s.src = paths[lib];\n",
       "        });\n",
       "    }\n",
       "\n",
       "    function showError(err) {\n",
       "      outputDiv.innerHTML = `<div class=\"error\" style=\"color:red;\">${err}</div>`;\n",
       "      throw err;\n",
       "    }\n",
       "\n",
       "    function displayChart(vegaEmbed) {\n",
       "      vegaEmbed(outputDiv, spec, embedOpt)\n",
       "        .catch(err => showError(`Javascript Error: ${err.message}<br>This usually means there's a typo in your chart specification. See the javascript console for the full traceback.`));\n",
       "    }\n",
       "\n",
       "    if(typeof define === \"function\" && define.amd) {\n",
       "      requirejs.config({paths});\n",
       "      require([\"vega-embed\"], displayChart, err => showError(`Error loading script: ${err.message}`));\n",
       "    } else {\n",
       "      maybeLoadScript(\"vega\", \"5\")\n",
       "        .then(() => maybeLoadScript(\"vega-lite\", \"4.17.0\"))\n",
       "        .then(() => maybeLoadScript(\"vega-embed\", \"6\"))\n",
       "        .catch(showError)\n",
       "        .then(() => displayChart(vegaEmbed));\n",
       "    }\n",
       "  })({\"config\": {\"view\": {\"continuousWidth\": 400, \"continuousHeight\": 300}}, \"data\": {\"name\": \"data-5df752aaf268271cb0eee771f5be590d\"}, \"mark\": \"bar\", \"encoding\": {\"color\": {\"field\": \"Categorie\", \"title\": \"Categories\", \"type\": \"nominal\"}, \"order\": {\"field\": \"Categorie\", \"type\": \"nominal\"}, \"x\": {\"field\": \"NomAgence\", \"title\": \"NomAgence\", \"type\": \"ordinal\"}, \"y\": {\"field\": \"Count\", \"title\": \"Nombre par Categorie\", \"type\": \"quantitative\"}}, \"height\": 400, \"width\": 600, \"$schema\": \"https://vega.github.io/schema/vega-lite/v4.17.0.json\", \"datasets\": {\"data-5df752aaf268271cb0eee771f5be590d\": [{\"NomAgence\": \"Agence Principale\", \"Categorie\": \"0-5min\", \"Count\": 3482}, {\"NomAgence\": \"Agence Principale\", \"Categorie\": \"5-10min\", \"Count\": 743}, {\"NomAgence\": \"Agence Principale\", \"Categorie\": \">10min\", \"Count\": 775}]}}, {\"mode\": \"vega-lite\"});\n",
       "</script>"
      ],
      "text/plain": [
       "alt.Chart(...)"
      ]
     },
     "execution_count": 27,
     "metadata": {},
     "output_type": "execute_result"
    }
   ],
   "source": [
    "import altair as alt\n",
    "import pandas as pd\n",
    "import streamlit as st\n",
    "\n",
    "def stacked_chart(data,type,concern):\n",
    "    \"\"\"\n",
    "    Default values of type:\n",
    "    'TempsAttenteReel' and 'TempOperation'\n",
    "    \"\"\"\n",
    "    df=data.copy()\n",
    "    df=df.sample(5000)\n",
    "    df[type] = df[type].dropna()\n",
    "    df['Categorie'] = df[type].apply(lambda x: \n",
    "    '0-5min' if 0 <= np.round(x/60).astype(int) <= 5 else \n",
    "    '5-10min' if 5 < np.round(x/60).astype(int) <= 10 else \n",
    "    '>10min'\n",
    ")\n",
    "    df=df.groupby([f'{concern}', 'Categorie']).size().reset_index(name='Count')\n",
    "    chart = alt.Chart(df).mark_bar().encode(\n",
    "        x=alt.X(f'{concern}:O', title=f'{concern}'),\n",
    "        y=alt.Y('Count:Q', title='Nombre par Categorie'),\n",
    "        color=alt.Color('Categorie:N', title='Categories'),\n",
    "        order=alt.Order('Categorie:N')  # Ensures the stacking order\n",
    "    ).properties(\n",
    "        width=600,\n",
    "        height=400\n",
    "    )\n",
    "    return chart\n",
    "\n",
    "stacked_chart(data,'TempOperation','NomAgence')"
   ]
  },
  {
   "cell_type": "code",
   "execution_count": 157,
   "metadata": {},
   "outputs": [
    {
     "data": {
      "text/html": [
       "\n",
       "<div id=\"altair-viz-9b49216a6f0d4ccfbc4a1435ded9e3c5\"></div>\n",
       "<script type=\"text/javascript\">\n",
       "  var VEGA_DEBUG = (typeof VEGA_DEBUG == \"undefined\") ? {} : VEGA_DEBUG;\n",
       "  (function(spec, embedOpt){\n",
       "    let outputDiv = document.currentScript.previousElementSibling;\n",
       "    if (outputDiv.id !== \"altair-viz-9b49216a6f0d4ccfbc4a1435ded9e3c5\") {\n",
       "      outputDiv = document.getElementById(\"altair-viz-9b49216a6f0d4ccfbc4a1435ded9e3c5\");\n",
       "    }\n",
       "    const paths = {\n",
       "      \"vega\": \"https://cdn.jsdelivr.net/npm//vega@5?noext\",\n",
       "      \"vega-lib\": \"https://cdn.jsdelivr.net/npm//vega-lib?noext\",\n",
       "      \"vega-lite\": \"https://cdn.jsdelivr.net/npm//vega-lite@4.17.0?noext\",\n",
       "      \"vega-embed\": \"https://cdn.jsdelivr.net/npm//vega-embed@6?noext\",\n",
       "    };\n",
       "\n",
       "    function maybeLoadScript(lib, version) {\n",
       "      var key = `${lib.replace(\"-\", \"\")}_version`;\n",
       "      return (VEGA_DEBUG[key] == version) ?\n",
       "        Promise.resolve(paths[lib]) :\n",
       "        new Promise(function(resolve, reject) {\n",
       "          var s = document.createElement('script');\n",
       "          document.getElementsByTagName(\"head\")[0].appendChild(s);\n",
       "          s.async = true;\n",
       "          s.onload = () => {\n",
       "            VEGA_DEBUG[key] = version;\n",
       "            return resolve(paths[lib]);\n",
       "          };\n",
       "          s.onerror = () => reject(`Error loading script: ${paths[lib]}`);\n",
       "          s.src = paths[lib];\n",
       "        });\n",
       "    }\n",
       "\n",
       "    function showError(err) {\n",
       "      outputDiv.innerHTML = `<div class=\"error\" style=\"color:red;\">${err}</div>`;\n",
       "      throw err;\n",
       "    }\n",
       "\n",
       "    function displayChart(vegaEmbed) {\n",
       "      vegaEmbed(outputDiv, spec, embedOpt)\n",
       "        .catch(err => showError(`Javascript Error: ${err.message}<br>This usually means there's a typo in your chart specification. See the javascript console for the full traceback.`));\n",
       "    }\n",
       "\n",
       "    if(typeof define === \"function\" && define.amd) {\n",
       "      requirejs.config({paths});\n",
       "      require([\"vega-embed\"], displayChart, err => showError(`Error loading script: ${err.message}`));\n",
       "    } else {\n",
       "      maybeLoadScript(\"vega\", \"5\")\n",
       "        .then(() => maybeLoadScript(\"vega-lite\", \"4.17.0\"))\n",
       "        .then(() => maybeLoadScript(\"vega-embed\", \"6\"))\n",
       "        .catch(showError)\n",
       "        .then(() => displayChart(vegaEmbed));\n",
       "    }\n",
       "  })({\"config\": {\"view\": {\"continuousWidth\": 400, \"continuousHeight\": 300}}, \"data\": {\"name\": \"data-4c06006ac55c7593230289fa0538e733\"}, \"mark\": \"bar\", \"encoding\": {\"color\": {\"field\": \"UserName\", \"title\": \"Category\", \"type\": \"nominal\"}, \"order\": {\"field\": \"UserName\", \"type\": \"nominal\"}, \"x\": {\"field\": \"NomAgence\", \"title\": \"Time Bins\", \"type\": \"ordinal\"}, \"y\": {\"field\": \"TempOperation\", \"title\": \"Number of Calls\", \"type\": \"quantitative\"}}, \"height\": 400, \"width\": 600, \"$schema\": \"https://vega.github.io/schema/vega-lite/v4.17.0.json\", \"datasets\": {\"data-4c06006ac55c7593230289fa0538e733\": [{\"NomAgence\": \"Agence Principale\", \"UserName\": \"LNDONG2\", \"TempOperation\": 239.41897003200467}, {\"NomAgence\": \"Agence Principale\", \"UserName\": \"PATAMBA\", \"TempOperation\": 820.5408163265306}, {\"NomAgence\": \"Agence Principale\", \"UserName\": \"SCISSOKHO\", \"TempOperation\": 490.89050235478805}, {\"NomAgence\": \"Agence Principale\", \"UserName\": \"aminandiaye\", \"TempOperation\": 547.0806451612904}, {\"NomAgence\": \"Agence Principale\", \"UserName\": \"amisane\", \"TempOperation\": 565.7221888153939}, {\"NomAgence\": \"Agence Principale\", \"UserName\": \"bwane\", \"TempOperation\": 953.1573033707865}, {\"NomAgence\": \"Agence Principale\", \"UserName\": \"nddieng\", \"TempOperation\": 556.3391812865497}, {\"NomAgence\": \"Agence2\", \"UserName\": \"LNDONG2\", \"TempOperation\": 245.75806451612902}, {\"NomAgence\": \"Agence2\", \"UserName\": \"PATAMBA\", \"TempOperation\": 457.5}, {\"NomAgence\": \"Agence2\", \"UserName\": \"SCISSOKHO\", \"TempOperation\": 388.6842105263158}, {\"NomAgence\": \"Agence2\", \"UserName\": \"aminandiaye\", \"TempOperation\": 102.0}, {\"NomAgence\": \"Agence2\", \"UserName\": \"amisane\", \"TempOperation\": 529.5}, {\"NomAgence\": \"Agence2\", \"UserName\": \"bwane\", \"TempOperation\": 22.0}, {\"NomAgence\": \"Agence2\", \"UserName\": \"nddieng\", \"TempOperation\": 653.5}]}}, {\"mode\": \"vega-lite\"});\n",
       "</script>"
      ],
      "text/plain": [
       "alt.Chart(...)"
      ]
     },
     "execution_count": 157,
     "metadata": {},
     "output_type": "execute_result"
    }
   ],
   "source": [
    "import altair as alt\n",
    "import pandas as pd\n",
    "import streamlit as st\n",
    "\n",
    "import altair as alt\n",
    "import pandas as pd\n",
    "import streamlit as st\n",
    "\n",
    "# Sample data\n",
    "# data = pd.DataFrame({\n",
    "#     'NomAgence': ['Agency1'] * 6,\n",
    "#     'TempsAttente': [2, 7, 3, 11, 6, 8],\n",
    "#     'Date_Appel': pd.date_range(start='2024-08-01', periods=6, freq='D'),\n",
    "#     'Categorie': ['0-5min', '5-10min', '0-5min', '>10min', '5-10min', '5-10min'],\n",
    "#     'Time_Bins': ['2024-08-01 to 2024-08-07'] * 6\n",
    "# })\n",
    "\n",
    "\n",
    "# Create the Stacked Bar Chart\n",
    "chart = alt.Chart(df1).mark_bar().encode(\n",
    "    x=alt.X('NomAgence:O', title='Time Bins'),\n",
    "    y=alt.Y('TempOperation:Q', title='Number of Calls'),\n",
    "    color=alt.Color('UserName:N', title='Category'),\n",
    "    order=alt.Order('UserName:N')  # Ensures the stacking order\n",
    ").properties(\n",
    "    width=600,\n",
    "    height=400\n",
    ")\n",
    "\n",
    "# Display in Streamlit\n",
    "st.write(\"Stacked Bar Chart Example\")\n",
    "chart\n",
    "\n"
   ]
  },
  {
   "cell_type": "code",
   "execution_count": 193,
   "metadata": {},
   "outputs": [
    {
     "data": {
      "text/plain": [
       "array(['Agence29', 'Agence12', 'Agence Principale', 'Agence35',\n",
       "       'Agence32', 'Agence8', 'Agence34', 'Agence20', 'Agence31',\n",
       "       'Agence21', 'Agence27', 'Agence17', 'Agence7', 'Agence11',\n",
       "       'Agence26', 'Agence24', 'Agence6', 'Agence19', 'Agence15',\n",
       "       'Agence2', 'Agence1', 'Agence23', 'Agence28', 'Agence22',\n",
       "       'Agence10', 'Agence18', 'Agence13', 'Agence3', 'Agence14',\n",
       "       'Agence25', 'Agence9', 'Agence16', 'Agence5', 'Agence0',\n",
       "       'Agence30', 'Agence4', 'Agence33'], dtype=object)"
      ]
     },
     "execution_count": 193,
     "metadata": {},
     "output_type": "execute_result"
    }
   ],
   "source": [
    "df['NomAgence'].unique()"
   ]
  },
  {
   "cell_type": "code",
   "execution_count": null,
   "metadata": {},
   "outputs": [],
   "source": []
  },
  {
   "cell_type": "code",
   "execution_count": 171,
   "metadata": {},
   "outputs": [
    {
     "data": {
      "application/vnd.plotly.v1+json": {
       "config": {
        "plotlyServerURL": "https://plot.ly"
       },
       "data": [
        {
         "fill": "tozeroy",
         "mode": "lines+markers",
         "name": "Agence Principale",
         "type": "scatter",
         "x": [
          "2024-06-07 to 2024-06-13",
          "2024-06-14 to 2024-06-20",
          "2024-06-21 to 2024-06-27",
          "2024-06-28 to 2024-07-04",
          "2024-07-05 to 2024-07-11",
          "2024-07-12 to 2024-07-18",
          "2024-07-19 to 2024-07-25",
          "2024-07-26 to 2024-08-01",
          "2024-08-02 to 2024-08-08",
          "2024-08-09 to 2024-08-15",
          "2024-08-16 to 2024-08-16"
         ],
         "y": [
          6,
          7,
          6,
          5,
          6,
          7,
          6,
          6,
          5,
          8,
          11
         ]
        }
       ],
       "layout": {
        "legend": {
         "title": {
          "text": "Agence"
         }
        },
        "shapes": [
         {
          "line": {
           "color": "yellow",
           "dash": "dot",
           "width": 2
          },
          "type": "line",
          "x0": "2024-06-07 to 2024-06-13",
          "x1": "2024-08-16 to 2024-08-16",
          "y0": 5,
          "y1": 5
         }
        ],
        "template": {
         "data": {
          "bar": [
           {
            "error_x": {
             "color": "#f2f5fa"
            },
            "error_y": {
             "color": "#f2f5fa"
            },
            "marker": {
             "line": {
              "color": "rgb(17,17,17)",
              "width": 0.5
             },
             "pattern": {
              "fillmode": "overlay",
              "size": 10,
              "solidity": 0.2
             }
            },
            "type": "bar"
           }
          ],
          "barpolar": [
           {
            "marker": {
             "line": {
              "color": "rgb(17,17,17)",
              "width": 0.5
             },
             "pattern": {
              "fillmode": "overlay",
              "size": 10,
              "solidity": 0.2
             }
            },
            "type": "barpolar"
           }
          ],
          "carpet": [
           {
            "aaxis": {
             "endlinecolor": "#A2B1C6",
             "gridcolor": "#506784",
             "linecolor": "#506784",
             "minorgridcolor": "#506784",
             "startlinecolor": "#A2B1C6"
            },
            "baxis": {
             "endlinecolor": "#A2B1C6",
             "gridcolor": "#506784",
             "linecolor": "#506784",
             "minorgridcolor": "#506784",
             "startlinecolor": "#A2B1C6"
            },
            "type": "carpet"
           }
          ],
          "choropleth": [
           {
            "colorbar": {
             "outlinewidth": 0,
             "ticks": ""
            },
            "type": "choropleth"
           }
          ],
          "contour": [
           {
            "colorbar": {
             "outlinewidth": 0,
             "ticks": ""
            },
            "colorscale": [
             [
              0,
              "#0d0887"
             ],
             [
              0.1111111111111111,
              "#46039f"
             ],
             [
              0.2222222222222222,
              "#7201a8"
             ],
             [
              0.3333333333333333,
              "#9c179e"
             ],
             [
              0.4444444444444444,
              "#bd3786"
             ],
             [
              0.5555555555555556,
              "#d8576b"
             ],
             [
              0.6666666666666666,
              "#ed7953"
             ],
             [
              0.7777777777777778,
              "#fb9f3a"
             ],
             [
              0.8888888888888888,
              "#fdca26"
             ],
             [
              1,
              "#f0f921"
             ]
            ],
            "type": "contour"
           }
          ],
          "contourcarpet": [
           {
            "colorbar": {
             "outlinewidth": 0,
             "ticks": ""
            },
            "type": "contourcarpet"
           }
          ],
          "heatmap": [
           {
            "colorbar": {
             "outlinewidth": 0,
             "ticks": ""
            },
            "colorscale": [
             [
              0,
              "#0d0887"
             ],
             [
              0.1111111111111111,
              "#46039f"
             ],
             [
              0.2222222222222222,
              "#7201a8"
             ],
             [
              0.3333333333333333,
              "#9c179e"
             ],
             [
              0.4444444444444444,
              "#bd3786"
             ],
             [
              0.5555555555555556,
              "#d8576b"
             ],
             [
              0.6666666666666666,
              "#ed7953"
             ],
             [
              0.7777777777777778,
              "#fb9f3a"
             ],
             [
              0.8888888888888888,
              "#fdca26"
             ],
             [
              1,
              "#f0f921"
             ]
            ],
            "type": "heatmap"
           }
          ],
          "heatmapgl": [
           {
            "colorbar": {
             "outlinewidth": 0,
             "ticks": ""
            },
            "colorscale": [
             [
              0,
              "#0d0887"
             ],
             [
              0.1111111111111111,
              "#46039f"
             ],
             [
              0.2222222222222222,
              "#7201a8"
             ],
             [
              0.3333333333333333,
              "#9c179e"
             ],
             [
              0.4444444444444444,
              "#bd3786"
             ],
             [
              0.5555555555555556,
              "#d8576b"
             ],
             [
              0.6666666666666666,
              "#ed7953"
             ],
             [
              0.7777777777777778,
              "#fb9f3a"
             ],
             [
              0.8888888888888888,
              "#fdca26"
             ],
             [
              1,
              "#f0f921"
             ]
            ],
            "type": "heatmapgl"
           }
          ],
          "histogram": [
           {
            "marker": {
             "pattern": {
              "fillmode": "overlay",
              "size": 10,
              "solidity": 0.2
             }
            },
            "type": "histogram"
           }
          ],
          "histogram2d": [
           {
            "colorbar": {
             "outlinewidth": 0,
             "ticks": ""
            },
            "colorscale": [
             [
              0,
              "#0d0887"
             ],
             [
              0.1111111111111111,
              "#46039f"
             ],
             [
              0.2222222222222222,
              "#7201a8"
             ],
             [
              0.3333333333333333,
              "#9c179e"
             ],
             [
              0.4444444444444444,
              "#bd3786"
             ],
             [
              0.5555555555555556,
              "#d8576b"
             ],
             [
              0.6666666666666666,
              "#ed7953"
             ],
             [
              0.7777777777777778,
              "#fb9f3a"
             ],
             [
              0.8888888888888888,
              "#fdca26"
             ],
             [
              1,
              "#f0f921"
             ]
            ],
            "type": "histogram2d"
           }
          ],
          "histogram2dcontour": [
           {
            "colorbar": {
             "outlinewidth": 0,
             "ticks": ""
            },
            "colorscale": [
             [
              0,
              "#0d0887"
             ],
             [
              0.1111111111111111,
              "#46039f"
             ],
             [
              0.2222222222222222,
              "#7201a8"
             ],
             [
              0.3333333333333333,
              "#9c179e"
             ],
             [
              0.4444444444444444,
              "#bd3786"
             ],
             [
              0.5555555555555556,
              "#d8576b"
             ],
             [
              0.6666666666666666,
              "#ed7953"
             ],
             [
              0.7777777777777778,
              "#fb9f3a"
             ],
             [
              0.8888888888888888,
              "#fdca26"
             ],
             [
              1,
              "#f0f921"
             ]
            ],
            "type": "histogram2dcontour"
           }
          ],
          "mesh3d": [
           {
            "colorbar": {
             "outlinewidth": 0,
             "ticks": ""
            },
            "type": "mesh3d"
           }
          ],
          "parcoords": [
           {
            "line": {
             "colorbar": {
              "outlinewidth": 0,
              "ticks": ""
             }
            },
            "type": "parcoords"
           }
          ],
          "pie": [
           {
            "automargin": true,
            "type": "pie"
           }
          ],
          "scatter": [
           {
            "marker": {
             "line": {
              "color": "#283442"
             }
            },
            "type": "scatter"
           }
          ],
          "scatter3d": [
           {
            "line": {
             "colorbar": {
              "outlinewidth": 0,
              "ticks": ""
             }
            },
            "marker": {
             "colorbar": {
              "outlinewidth": 0,
              "ticks": ""
             }
            },
            "type": "scatter3d"
           }
          ],
          "scattercarpet": [
           {
            "marker": {
             "colorbar": {
              "outlinewidth": 0,
              "ticks": ""
             }
            },
            "type": "scattercarpet"
           }
          ],
          "scattergeo": [
           {
            "marker": {
             "colorbar": {
              "outlinewidth": 0,
              "ticks": ""
             }
            },
            "type": "scattergeo"
           }
          ],
          "scattergl": [
           {
            "marker": {
             "line": {
              "color": "#283442"
             }
            },
            "type": "scattergl"
           }
          ],
          "scattermapbox": [
           {
            "marker": {
             "colorbar": {
              "outlinewidth": 0,
              "ticks": ""
             }
            },
            "type": "scattermapbox"
           }
          ],
          "scatterpolar": [
           {
            "marker": {
             "colorbar": {
              "outlinewidth": 0,
              "ticks": ""
             }
            },
            "type": "scatterpolar"
           }
          ],
          "scatterpolargl": [
           {
            "marker": {
             "colorbar": {
              "outlinewidth": 0,
              "ticks": ""
             }
            },
            "type": "scatterpolargl"
           }
          ],
          "scatterternary": [
           {
            "marker": {
             "colorbar": {
              "outlinewidth": 0,
              "ticks": ""
             }
            },
            "type": "scatterternary"
           }
          ],
          "surface": [
           {
            "colorbar": {
             "outlinewidth": 0,
             "ticks": ""
            },
            "colorscale": [
             [
              0,
              "#0d0887"
             ],
             [
              0.1111111111111111,
              "#46039f"
             ],
             [
              0.2222222222222222,
              "#7201a8"
             ],
             [
              0.3333333333333333,
              "#9c179e"
             ],
             [
              0.4444444444444444,
              "#bd3786"
             ],
             [
              0.5555555555555556,
              "#d8576b"
             ],
             [
              0.6666666666666666,
              "#ed7953"
             ],
             [
              0.7777777777777778,
              "#fb9f3a"
             ],
             [
              0.8888888888888888,
              "#fdca26"
             ],
             [
              1,
              "#f0f921"
             ]
            ],
            "type": "surface"
           }
          ],
          "table": [
           {
            "cells": {
             "fill": {
              "color": "#506784"
             },
             "line": {
              "color": "rgb(17,17,17)"
             }
            },
            "header": {
             "fill": {
              "color": "#2a3f5f"
             },
             "line": {
              "color": "rgb(17,17,17)"
             }
            },
            "type": "table"
           }
          ]
         },
         "layout": {
          "annotationdefaults": {
           "arrowcolor": "#f2f5fa",
           "arrowhead": 0,
           "arrowwidth": 1
          },
          "autotypenumbers": "strict",
          "coloraxis": {
           "colorbar": {
            "outlinewidth": 0,
            "ticks": ""
           }
          },
          "colorscale": {
           "diverging": [
            [
             0,
             "#8e0152"
            ],
            [
             0.1,
             "#c51b7d"
            ],
            [
             0.2,
             "#de77ae"
            ],
            [
             0.3,
             "#f1b6da"
            ],
            [
             0.4,
             "#fde0ef"
            ],
            [
             0.5,
             "#f7f7f7"
            ],
            [
             0.6,
             "#e6f5d0"
            ],
            [
             0.7,
             "#b8e186"
            ],
            [
             0.8,
             "#7fbc41"
            ],
            [
             0.9,
             "#4d9221"
            ],
            [
             1,
             "#276419"
            ]
           ],
           "sequential": [
            [
             0,
             "#0d0887"
            ],
            [
             0.1111111111111111,
             "#46039f"
            ],
            [
             0.2222222222222222,
             "#7201a8"
            ],
            [
             0.3333333333333333,
             "#9c179e"
            ],
            [
             0.4444444444444444,
             "#bd3786"
            ],
            [
             0.5555555555555556,
             "#d8576b"
            ],
            [
             0.6666666666666666,
             "#ed7953"
            ],
            [
             0.7777777777777778,
             "#fb9f3a"
            ],
            [
             0.8888888888888888,
             "#fdca26"
            ],
            [
             1,
             "#f0f921"
            ]
           ],
           "sequentialminus": [
            [
             0,
             "#0d0887"
            ],
            [
             0.1111111111111111,
             "#46039f"
            ],
            [
             0.2222222222222222,
             "#7201a8"
            ],
            [
             0.3333333333333333,
             "#9c179e"
            ],
            [
             0.4444444444444444,
             "#bd3786"
            ],
            [
             0.5555555555555556,
             "#d8576b"
            ],
            [
             0.6666666666666666,
             "#ed7953"
            ],
            [
             0.7777777777777778,
             "#fb9f3a"
            ],
            [
             0.8888888888888888,
             "#fdca26"
            ],
            [
             1,
             "#f0f921"
            ]
           ]
          },
          "colorway": [
           "#636efa",
           "#EF553B",
           "#00cc96",
           "#ab63fa",
           "#FFA15A",
           "#19d3f3",
           "#FF6692",
           "#B6E880",
           "#FF97FF",
           "#FECB52"
          ],
          "font": {
           "color": "#f2f5fa"
          },
          "geo": {
           "bgcolor": "rgb(17,17,17)",
           "lakecolor": "rgb(17,17,17)",
           "landcolor": "rgb(17,17,17)",
           "showlakes": true,
           "showland": true,
           "subunitcolor": "#506784"
          },
          "hoverlabel": {
           "align": "left"
          },
          "hovermode": "closest",
          "mapbox": {
           "style": "dark"
          },
          "paper_bgcolor": "rgb(17,17,17)",
          "plot_bgcolor": "rgb(17,17,17)",
          "polar": {
           "angularaxis": {
            "gridcolor": "#506784",
            "linecolor": "#506784",
            "ticks": ""
           },
           "bgcolor": "rgb(17,17,17)",
           "radialaxis": {
            "gridcolor": "#506784",
            "linecolor": "#506784",
            "ticks": ""
           }
          },
          "scene": {
           "xaxis": {
            "backgroundcolor": "rgb(17,17,17)",
            "gridcolor": "#506784",
            "gridwidth": 2,
            "linecolor": "#506784",
            "showbackground": true,
            "ticks": "",
            "zerolinecolor": "#C8D4E3"
           },
           "yaxis": {
            "backgroundcolor": "rgb(17,17,17)",
            "gridcolor": "#506784",
            "gridwidth": 2,
            "linecolor": "#506784",
            "showbackground": true,
            "ticks": "",
            "zerolinecolor": "#C8D4E3"
           },
           "zaxis": {
            "backgroundcolor": "rgb(17,17,17)",
            "gridcolor": "#506784",
            "gridwidth": 2,
            "linecolor": "#506784",
            "showbackground": true,
            "ticks": "",
            "zerolinecolor": "#C8D4E3"
           }
          },
          "shapedefaults": {
           "line": {
            "color": "#f2f5fa"
           }
          },
          "sliderdefaults": {
           "bgcolor": "#C8D4E3",
           "bordercolor": "rgb(17,17,17)",
           "borderwidth": 1,
           "tickwidth": 0
          },
          "ternary": {
           "aaxis": {
            "gridcolor": "#506784",
            "linecolor": "#506784",
            "ticks": ""
           },
           "baxis": {
            "gridcolor": "#506784",
            "linecolor": "#506784",
            "ticks": ""
           },
           "bgcolor": "rgb(17,17,17)",
           "caxis": {
            "gridcolor": "#506784",
            "linecolor": "#506784",
            "ticks": ""
           }
          },
          "title": {
           "x": 0.05
          },
          "updatemenudefaults": {
           "bgcolor": "#506784",
           "borderwidth": 0
          },
          "xaxis": {
           "automargin": true,
           "gridcolor": "#283442",
           "linecolor": "#506784",
           "ticks": "",
           "title": {
            "standoff": 15
           },
           "zerolinecolor": "#283442",
           "zerolinewidth": 2
          },
          "yaxis": {
           "automargin": true,
           "gridcolor": "#283442",
           "linecolor": "#506784",
           "ticks": "",
           "title": {
            "standoff": 15
           },
           "zerolinecolor": "#283442",
           "zerolinewidth": 2
          }
         }
        },
        "title": {
         "text": "Courbes des 5 Agences les Plus Lentes par TempAttente"
        },
        "xaxis": {
         "title": {
          "text": "Intervalle de Temps en Semaine"
         }
        },
        "yaxis": {
         "title": {
          "text": "TempAttente Moyenne (minutes)"
         }
        }
       }
      }
     },
     "metadata": {},
     "output_type": "display_data"
    }
   ],
   "source": [
    "import streamlit as st\n",
    "import pandas as pd\n",
    "import plotly.graph_objects as go\n",
    "import numpy as np\n",
    "\n",
    "\n",
    "df=data.copy()\n",
    "\n",
    "def assign_to_bin(date,bins):\n",
    "    date = pd.Timestamp(date).normalize()  # Convert string date to Timestamp and normalize (ignore time)\n",
    "    for start, end in bins:\n",
    "        start_date = pd.Timestamp(start).normalize()\n",
    "        end_date = pd.Timestamp(end).normalize()\n",
    "        if start_date <= date <= end_date:\n",
    "            return f\"{start_date.date()} to {end_date.date()}\"\n",
    "    return None\n",
    "\n",
    "# # Number of new agencies to create\n",
    "# num_new_agencies = 36\n",
    "\n",
    "# # Number of rows per agency\n",
    "# rows_per_agency = 500\n",
    "\n",
    "# # Generate new agency names\n",
    "# new_agencies = [f'Agence_{i+1}' for i in range(num_new_agencies)]\n",
    "\n",
    "# # Update the 'NomAgence' column with new agency names in blocks of 500 rows\n",
    "# for i, agency in enumerate(new_agencies):\n",
    "#     start_index = i * rows_per_agency\n",
    "#     end_index = start_index + rows_per_agency\n",
    "#     df.loc[start_index:end_index, 'NomAgence'] = agency\n",
    "    \n",
    "def get_time_bins(min_date, max_date, bin_type):\n",
    "    start_date = min_date\n",
    "    time_bins = []\n",
    "\n",
    "    if bin_type == 'Mois':\n",
    "        offset = pd.DateOffset(months=1)\n",
    "    elif bin_type == 'Semaine':\n",
    "        offset = pd.DateOffset(weeks=1)\n",
    "    elif bin_type == 'Annee':\n",
    "        offset = pd.DateOffset(years=1)\n",
    "    else:\n",
    "        raise ValueError(\"bin_type must be 'month', 'week', or 'year'\")\n",
    "\n",
    "    while start_date <= max_date:\n",
    "        if bin_type == 'Semaine':\n",
    "            end_date = start_date + pd.DateOffset(days=6)\n",
    "        else:\n",
    "            end_date = (start_date + offset) - pd.DateOffset(days=1)\n",
    "\n",
    "        # Ensure the end date does not exceed the max_date\n",
    "        if end_date > max_date:\n",
    "            end_date = max_date\n",
    "\n",
    "        time_bins.append((start_date.strftime('%Y-%m-%d'), end_date.strftime('%Y-%m-%d')))\n",
    "\n",
    "        # Move to the next bin\n",
    "        start_date = end_date + pd.DateOffset(days=1)\n",
    "\n",
    "    return time_bins\n",
    "\n",
    "\n",
    "df=df.dropna(subset=['Date_Fin'])\n",
    "# Convert columns to datetime\n",
    "df['Date_Reservation'] = pd.to_datetime(df['Date_Reservation'])\n",
    "df['Date_Fin'] = pd.to_datetime(df['Date_Fin'])\n",
    "\n",
    "\n",
    "# Calculate the difference between the min and max dates\n",
    "min_date = df['Date_Reservation'].min()\n",
    "max_date = df['Date_Reservation'].max()\n",
    "date_diff = (max_date - min_date).days\n",
    "\n",
    "# Define the Time_Bin intervals based on the date difference\n",
    "if date_diff == 0:\n",
    "    unit='Heure'\n",
    "    # Extract hour from Date_Reservation for hourly binning\n",
    "    df['Hour'] = df['Date_Fin'].dt.hour\n",
    "    bins = [i for i in range(7, 19)]  # From 7 to 18 hours\n",
    "    labels = ['7-8am', '8-9am', '9-10am', '10-11am', '11-12pm', '12-1pm', '1-2pm', '2-3pm', '3-4pm', '4-5pm', '5-6pm']\n",
    "    df['Time_Bin'] = pd.cut(df['Hour'], bins=bins, labels=labels, right=False)\n",
    "\n",
    "elif 1 <= date_diff <=7:\n",
    "    unit='Jour'\n",
    "    df['Time_Bin'] = df['Date_Fin'].dt.day\n",
    "    complete_dates=range(min_date.day,max_date.day+1)\n",
    "elif 7 < date_diff <=84:\n",
    "    unit=\"Semaine\"\n",
    "    bins=get_time_bins(min_date,max_date,unit)\n",
    "    df['Time_Bin'] = df['Date_Fin'].apply(lambda x:assign_to_bin(x,bins))\n",
    "    \n",
    "elif 84 < date_diff <=365:\n",
    "    unit=\"Mois\"\n",
    "    bins=get_time_bins(min_date,max_date,unit)\n",
    "    df['Time_Bin'] = df['Date_Fin'].apply(lambda x:assign_to_bin(x,bins))\n",
    "else:\n",
    "    unit='Annee'\n",
    "    bins=get_time_bins(min_date,max_date,unit)\n",
    "    df['Time_Bin'] = df['Date_Fin'].apply(lambda x:assign_to_bin(x,bins))\n",
    "\n",
    "# Group by Nom_Agence and Time_Bin, and calculate the average TempAttente\n",
    "grouped_data = df.groupby(['NomAgence', 'Time_Bin'])[['TempOperation']].agg(( lambda x: np.round(np.mean(x)/60).astype(int))).reset_index()\n",
    "\n",
    "# Calculate area under the curve for each agency\n",
    "area_data = grouped_data.groupby('NomAgence')['TempOperation'].sum().reset_index()\n",
    "area_data = area_data.sort_values(by='TempOperation', ascending=False)\n",
    "\n",
    "# Select the top 5 agencies with the largest area under the curve\n",
    "top_5_agences = area_data.head(5)['NomAgence'].tolist()\n",
    "\n",
    "\n",
    "# Create a DataFrame with all combinations of agencies and time bins\n",
    "if unit==\"Jour\":\n",
    "    all_combinations = pd.MultiIndex.from_product([top_5_agences, sorted(complete_dates)], names=['NomAgence', 'Time_Bin']).to_frame(index=False)\n",
    "else:\n",
    "    \n",
    "    all_combinations = pd.MultiIndex.from_product([top_5_agences, sorted(df['Time_Bin'].dropna().unique())], names=['NomAgence', 'Time_Bin']).to_frame(index=False)\n",
    "\n",
    "all_combinations = pd.merge(all_combinations, grouped_data, on=['NomAgence', 'Time_Bin'], how='left').fillna(0)\n",
    "\n",
    "\n",
    "# Create a figure with go.Figure\n",
    "fig = go.Figure()\n",
    "\n",
    "# Add traces for each agency\n",
    "for agence in top_5_agences:\n",
    "    agency_data = all_combinations[all_combinations['NomAgence'] == agence]\n",
    "    fig.add_trace(go.Scatter(\n",
    "        x=agency_data['Time_Bin'],\n",
    "        y=agency_data['TempOperation'],\n",
    "        mode='lines+markers',\n",
    "        fill='tozeroy',\n",
    "        name=agence\n",
    "    ))\n",
    "\n",
    "# Update layout for better visualization\n",
    "fig.update_layout(\n",
    "    title='Courbes des 5 Agences les Plus Lentes par TempAttente',\n",
    "    xaxis_title=f'Intervalle de Temps en {unit}',\n",
    "    yaxis_title='TempAttente Moyenne (minutes)',\n",
    "    template='plotly_dark',\n",
    "    legend_title='Agence'\n",
    ")\n",
    "# Ajouter une ligne horizontale avec une couleur différente des courbes\n",
    "fig.add_shape(\n",
    "    type=\"line\",\n",
    "    x0=all_combinations['Time_Bin'].min(),  # Début de la ligne sur l'axe x\n",
    "    x1=all_combinations['Time_Bin'].max(),  # Fin de la ligne sur l'axe x\n",
    "    y0=5,  # Position de la ligne sur l'axe y\n",
    "    y1=5,  # Même que y0 pour que la ligne soit horizontale\n",
    "    line=dict(color=\"yellow\", width=2, dash=\"dot\")  # Couleur différente (ici, noir)\n",
    ")\n",
    "\n",
    "# Display the chart in Streamlit\n",
    "fig\n"
   ]
  },
  {
   "cell_type": "code",
   "execution_count": 137,
   "metadata": {},
   "outputs": [
    {
     "data": {
      "text/plain": [
       "'Annee'"
      ]
     },
     "execution_count": 137,
     "metadata": {},
     "output_type": "execute_result"
    }
   ],
   "source": [
    "date_diff=367\n",
    "['Semaine', 'Mois', 'Annee'][int(date_diff > 84) + int(date_diff > 365)]"
   ]
  },
  {
   "cell_type": "code",
   "execution_count": 129,
   "metadata": {},
   "outputs": [
    {
     "data": {
      "text/plain": [
       "10-11am    1443\n",
       "3-4pm      1433\n",
       "11-12pm    1417\n",
       "9-10am     1285\n",
       "2-3pm      1270\n",
       "12-1pm     1250\n",
       "8-9am      1070\n",
       "4-5pm       980\n",
       "1-2pm       973\n",
       "7-8am       539\n",
       "5-6pm       156\n",
       "Name: Time_Bin, dtype: int64"
      ]
     },
     "execution_count": 129,
     "metadata": {},
     "output_type": "execute_result"
    }
   ],
   "source": [
    "df['Time_Bin'].value_counts()"
   ]
  },
  {
   "cell_type": "code",
   "execution_count": 161,
   "metadata": {},
   "outputs": [],
   "source": [
    "\n",
    "\n",
    "df=data.copy()\n",
    "\n",
    "# # Number of new agencies to create\n",
    "# num_new_agencies = 36\n",
    "\n",
    "# # Number of rows per agency\n",
    "# rows_per_agency = 500\n",
    "\n",
    "# # Generate new agency names\n",
    "# new_agencies = [f'Agence_{i+1}' for i in range(num_new_agencies)]\n",
    "\n",
    "# # Update the 'NomAgence' column with new agency names in blocks of 500 rows\n",
    "# for i, agency in enumerate(new_agencies):\n",
    "#     start_index = i * rows_per_agency\n",
    "#     end_index = start_index + rows_per_agency\n",
    "#     df.loc[start_index:end_index, 'NomAgence'] = agency\n",
    "def assign_to_bin(date,bins):\n",
    "    date = pd.Timestamp(date).normalize()  # Convert string date to Timestamp and normalize (ignore time)\n",
    "    for start, end in bins:\n",
    "        start_date = pd.Timestamp(start).normalize()\n",
    "        end_date = pd.Timestamp(end).normalize()\n",
    "        if start_date <= date <= end_date:\n",
    "            return f\"{start_date.date()} to {end_date.date()}\"\n",
    "    return None   \n",
    "def get_time_bins(min_date, max_date, bin_type):\n",
    "    start_date = min_date\n",
    "    time_bins = []\n",
    "\n",
    "    if bin_type == 'Mois':\n",
    "        offset = pd.DateOffset(months=1)\n",
    "    elif bin_type == 'Semaine':\n",
    "        offset = pd.DateOffset(weeks=1)\n",
    "    elif bin_type == 'Annee':\n",
    "        offset = pd.DateOffset(years=1)\n",
    "    else:\n",
    "        raise ValueError(\"bin_type must be 'month', 'week', or 'year'\")\n",
    "\n",
    "    while start_date <= max_date:\n",
    "        if bin_type == 'Semaine':\n",
    "            end_date = start_date + pd.DateOffset(days=6)\n",
    "        else:\n",
    "            end_date = (start_date + offset) - pd.DateOffset(days=1)\n",
    "\n",
    "        # Ensure the end date does not exceed the max_date\n",
    "        if end_date > max_date:\n",
    "            end_date = max_date\n",
    "\n",
    "        time_bins.append((start_date.strftime('%Y-%m-%d'), end_date.strftime('%Y-%m-%d')))\n",
    "\n",
    "        # Move to the next bin\n",
    "        start_date = end_date + pd.DateOffset(days=1)\n",
    "\n",
    "    return time_bins\n",
    "\n",
    "def area_graph(df,concern='UserName',time='TempOperation',date_to_bin='Date_Fin',seuil=5,title='Courbe'):\n",
    "    df=df.dropna(subset=[date_to_bin])\n",
    "\n",
    "    # Convert columns to datetime\n",
    "    df['Date_Reservation'] = pd.to_datetime(df['Date_Reservation'])\n",
    "    df[date_to_bin] = pd.to_datetime(df[date_to_bin])\n",
    "\n",
    "\n",
    "    # Calculate the difference between the min and max dates\n",
    "    min_date = df['Date_Reservation'].min()\n",
    "    max_date = df['Date_Reservation'].max()\n",
    "    date_diff = (max_date - min_date).days\n",
    "\n",
    "    # Define the Time_Bin intervals based on the date difference\n",
    "    if date_diff == 0:\n",
    "        unit, df['Time_Bin'] = 'Heure', pd.cut(df[date_to_bin].dt.hour, bins=range(7, 19), labels=[f'{i}-{i+1}am' for i in range(7, 12)] + [f'{i-12}-{i-11}pm' for i in range(12, 18)], right=False)\n",
    "    elif 1 <= date_diff <=7:\n",
    "        unit, df['Time_Bin'], complete_dates = 'Jour', df[date_to_bin].dt.day, range(min_date.day, max_date.day + 1)\n",
    "    else:\n",
    "        unit = ['Semaine', 'Mois', 'Annee'][int(date_diff > 84) + int(date_diff > 365)]\n",
    "        bins = get_time_bins(min_date, max_date, unit)\n",
    "        df['Time_Bin'] = df[date_to_bin].apply(lambda x: assign_to_bin(x, bins))\n",
    "\n",
    "\n",
    "    # Group by Nom_Agence and Time_Bin, and calculate the average TempAttente\n",
    "    grouped_data = df.groupby([concern, 'Time_Bin'])[[time]].agg(( lambda x: np.round(np.mean(x)/60).astype(int))).reset_index()\n",
    "\n",
    "    # Select the top 5 agencies with the largest area under the curve\n",
    "    if len(df['NomAgence'].unique())==1 and concern=='UserName':\n",
    "        top_agences=grouped_data[concern].unique()\n",
    "    else:\n",
    "        top_agences =grouped_data.groupby(concern)[time].sum().nlargest(5).index.tolist()\n",
    "    \n",
    "\n",
    "\n",
    "    # Create a DataFrame with all combinations of agencies and time bins\n",
    "    if unit==\"Jour\":\n",
    "        all_combinations = pd.MultiIndex.from_product([top_agences, sorted(complete_dates)], names=[concern, 'Time_Bin']).to_frame(index=False)\n",
    "    else:\n",
    "        \n",
    "        all_combinations = pd.MultiIndex.from_product([top_agences, sorted(df['Time_Bin'].dropna().unique())], names=[concern, 'Time_Bin']).to_frame(index=False)\n",
    "\n",
    "    all_combinations = pd.merge(all_combinations, grouped_data, on=[concern, 'Time_Bin'], how='left').fillna(0)\n",
    "\n",
    "\n",
    "    # Create a figure with go.Figure\n",
    "    fig = go.Figure()\n",
    "\n",
    "    # Add traces for each agency\n",
    "    for agence in top_agences:\n",
    "        agency_data = all_combinations[all_combinations[concern] == agence]\n",
    "        fig.add_trace(go.Scatter(\n",
    "            x=agency_data['Time_Bin'],\n",
    "            y=agency_data[time],\n",
    "            mode='lines+markers',\n",
    "            fill='tozeroy',\n",
    "            name=agence\n",
    "        ))\n",
    "\n",
    "    # Update layout for better visualization\n",
    "    fig.update_layout(\n",
    "        title=title,\n",
    "        xaxis_title=f'Intervalle de Temps en {unit}',\n",
    "        yaxis_title='Temp Moyen (minutes)',\n",
    "        template='plotly_dark',\n",
    "        legend_title=concern\n",
    "        \n",
    "    )\n",
    "    # Ajouter une ligne horizontale avec une couleur différente des courbes\n",
    "    fig.add_shape(\n",
    "        type=\"line\",\n",
    "        x0=all_combinations['Time_Bin'].min(),  # Début de la ligne sur l'axe x\n",
    "        x1=all_combinations['Time_Bin'].max(),  # Fin de la ligne sur l'axe x\n",
    "        y0=seuil,  # Position de la ligne sur l'axe y\n",
    "        y1=seuil,  # Même que y0 pour que la ligne soit horizontale\n",
    "        line=dict(color=\"yellow\", width=2, dash=\"dot\")  # Couleur différente (ici, noir)\n",
    "    )\n",
    "    \n",
    "    # Display the chart in Streamlit\n",
    "    return fig\n"
   ]
  },
  {
   "cell_type": "code",
   "execution_count": 172,
   "metadata": {},
   "outputs": [
    {
     "data": {
      "application/vnd.plotly.v1+json": {
       "config": {
        "plotlyServerURL": "https://plot.ly"
       },
       "data": [
        {
         "fill": "tozeroy",
         "mode": "lines+markers",
         "name": "Agence Principale",
         "type": "scatter",
         "x": [
          "2024-06-07 to 2024-06-13",
          "2024-06-14 to 2024-06-20",
          "2024-06-21 to 2024-06-27",
          "2024-06-28 to 2024-07-04",
          "2024-07-05 to 2024-07-11",
          "2024-07-12 to 2024-07-18",
          "2024-07-19 to 2024-07-25",
          "2024-07-26 to 2024-08-01",
          "2024-08-02 to 2024-08-08",
          "2024-08-09 to 2024-08-15",
          "2024-08-16 to 2024-08-16"
         ],
         "y": [
          6,
          7,
          6,
          5,
          6,
          7,
          6,
          6,
          5,
          8,
          11
         ]
        }
       ],
       "layout": {
        "legend": {
         "title": {
          "text": "NomAgence"
         }
        },
        "shapes": [
         {
          "line": {
           "color": "yellow",
           "dash": "dot",
           "width": 2
          },
          "type": "line",
          "x0": "2024-06-07 to 2024-06-13",
          "x1": "2024-08-16 to 2024-08-16",
          "y0": 5,
          "y1": 5
         }
        ],
        "template": {
         "data": {
          "bar": [
           {
            "error_x": {
             "color": "#f2f5fa"
            },
            "error_y": {
             "color": "#f2f5fa"
            },
            "marker": {
             "line": {
              "color": "rgb(17,17,17)",
              "width": 0.5
             },
             "pattern": {
              "fillmode": "overlay",
              "size": 10,
              "solidity": 0.2
             }
            },
            "type": "bar"
           }
          ],
          "barpolar": [
           {
            "marker": {
             "line": {
              "color": "rgb(17,17,17)",
              "width": 0.5
             },
             "pattern": {
              "fillmode": "overlay",
              "size": 10,
              "solidity": 0.2
             }
            },
            "type": "barpolar"
           }
          ],
          "carpet": [
           {
            "aaxis": {
             "endlinecolor": "#A2B1C6",
             "gridcolor": "#506784",
             "linecolor": "#506784",
             "minorgridcolor": "#506784",
             "startlinecolor": "#A2B1C6"
            },
            "baxis": {
             "endlinecolor": "#A2B1C6",
             "gridcolor": "#506784",
             "linecolor": "#506784",
             "minorgridcolor": "#506784",
             "startlinecolor": "#A2B1C6"
            },
            "type": "carpet"
           }
          ],
          "choropleth": [
           {
            "colorbar": {
             "outlinewidth": 0,
             "ticks": ""
            },
            "type": "choropleth"
           }
          ],
          "contour": [
           {
            "colorbar": {
             "outlinewidth": 0,
             "ticks": ""
            },
            "colorscale": [
             [
              0,
              "#0d0887"
             ],
             [
              0.1111111111111111,
              "#46039f"
             ],
             [
              0.2222222222222222,
              "#7201a8"
             ],
             [
              0.3333333333333333,
              "#9c179e"
             ],
             [
              0.4444444444444444,
              "#bd3786"
             ],
             [
              0.5555555555555556,
              "#d8576b"
             ],
             [
              0.6666666666666666,
              "#ed7953"
             ],
             [
              0.7777777777777778,
              "#fb9f3a"
             ],
             [
              0.8888888888888888,
              "#fdca26"
             ],
             [
              1,
              "#f0f921"
             ]
            ],
            "type": "contour"
           }
          ],
          "contourcarpet": [
           {
            "colorbar": {
             "outlinewidth": 0,
             "ticks": ""
            },
            "type": "contourcarpet"
           }
          ],
          "heatmap": [
           {
            "colorbar": {
             "outlinewidth": 0,
             "ticks": ""
            },
            "colorscale": [
             [
              0,
              "#0d0887"
             ],
             [
              0.1111111111111111,
              "#46039f"
             ],
             [
              0.2222222222222222,
              "#7201a8"
             ],
             [
              0.3333333333333333,
              "#9c179e"
             ],
             [
              0.4444444444444444,
              "#bd3786"
             ],
             [
              0.5555555555555556,
              "#d8576b"
             ],
             [
              0.6666666666666666,
              "#ed7953"
             ],
             [
              0.7777777777777778,
              "#fb9f3a"
             ],
             [
              0.8888888888888888,
              "#fdca26"
             ],
             [
              1,
              "#f0f921"
             ]
            ],
            "type": "heatmap"
           }
          ],
          "heatmapgl": [
           {
            "colorbar": {
             "outlinewidth": 0,
             "ticks": ""
            },
            "colorscale": [
             [
              0,
              "#0d0887"
             ],
             [
              0.1111111111111111,
              "#46039f"
             ],
             [
              0.2222222222222222,
              "#7201a8"
             ],
             [
              0.3333333333333333,
              "#9c179e"
             ],
             [
              0.4444444444444444,
              "#bd3786"
             ],
             [
              0.5555555555555556,
              "#d8576b"
             ],
             [
              0.6666666666666666,
              "#ed7953"
             ],
             [
              0.7777777777777778,
              "#fb9f3a"
             ],
             [
              0.8888888888888888,
              "#fdca26"
             ],
             [
              1,
              "#f0f921"
             ]
            ],
            "type": "heatmapgl"
           }
          ],
          "histogram": [
           {
            "marker": {
             "pattern": {
              "fillmode": "overlay",
              "size": 10,
              "solidity": 0.2
             }
            },
            "type": "histogram"
           }
          ],
          "histogram2d": [
           {
            "colorbar": {
             "outlinewidth": 0,
             "ticks": ""
            },
            "colorscale": [
             [
              0,
              "#0d0887"
             ],
             [
              0.1111111111111111,
              "#46039f"
             ],
             [
              0.2222222222222222,
              "#7201a8"
             ],
             [
              0.3333333333333333,
              "#9c179e"
             ],
             [
              0.4444444444444444,
              "#bd3786"
             ],
             [
              0.5555555555555556,
              "#d8576b"
             ],
             [
              0.6666666666666666,
              "#ed7953"
             ],
             [
              0.7777777777777778,
              "#fb9f3a"
             ],
             [
              0.8888888888888888,
              "#fdca26"
             ],
             [
              1,
              "#f0f921"
             ]
            ],
            "type": "histogram2d"
           }
          ],
          "histogram2dcontour": [
           {
            "colorbar": {
             "outlinewidth": 0,
             "ticks": ""
            },
            "colorscale": [
             [
              0,
              "#0d0887"
             ],
             [
              0.1111111111111111,
              "#46039f"
             ],
             [
              0.2222222222222222,
              "#7201a8"
             ],
             [
              0.3333333333333333,
              "#9c179e"
             ],
             [
              0.4444444444444444,
              "#bd3786"
             ],
             [
              0.5555555555555556,
              "#d8576b"
             ],
             [
              0.6666666666666666,
              "#ed7953"
             ],
             [
              0.7777777777777778,
              "#fb9f3a"
             ],
             [
              0.8888888888888888,
              "#fdca26"
             ],
             [
              1,
              "#f0f921"
             ]
            ],
            "type": "histogram2dcontour"
           }
          ],
          "mesh3d": [
           {
            "colorbar": {
             "outlinewidth": 0,
             "ticks": ""
            },
            "type": "mesh3d"
           }
          ],
          "parcoords": [
           {
            "line": {
             "colorbar": {
              "outlinewidth": 0,
              "ticks": ""
             }
            },
            "type": "parcoords"
           }
          ],
          "pie": [
           {
            "automargin": true,
            "type": "pie"
           }
          ],
          "scatter": [
           {
            "marker": {
             "line": {
              "color": "#283442"
             }
            },
            "type": "scatter"
           }
          ],
          "scatter3d": [
           {
            "line": {
             "colorbar": {
              "outlinewidth": 0,
              "ticks": ""
             }
            },
            "marker": {
             "colorbar": {
              "outlinewidth": 0,
              "ticks": ""
             }
            },
            "type": "scatter3d"
           }
          ],
          "scattercarpet": [
           {
            "marker": {
             "colorbar": {
              "outlinewidth": 0,
              "ticks": ""
             }
            },
            "type": "scattercarpet"
           }
          ],
          "scattergeo": [
           {
            "marker": {
             "colorbar": {
              "outlinewidth": 0,
              "ticks": ""
             }
            },
            "type": "scattergeo"
           }
          ],
          "scattergl": [
           {
            "marker": {
             "line": {
              "color": "#283442"
             }
            },
            "type": "scattergl"
           }
          ],
          "scattermapbox": [
           {
            "marker": {
             "colorbar": {
              "outlinewidth": 0,
              "ticks": ""
             }
            },
            "type": "scattermapbox"
           }
          ],
          "scatterpolar": [
           {
            "marker": {
             "colorbar": {
              "outlinewidth": 0,
              "ticks": ""
             }
            },
            "type": "scatterpolar"
           }
          ],
          "scatterpolargl": [
           {
            "marker": {
             "colorbar": {
              "outlinewidth": 0,
              "ticks": ""
             }
            },
            "type": "scatterpolargl"
           }
          ],
          "scatterternary": [
           {
            "marker": {
             "colorbar": {
              "outlinewidth": 0,
              "ticks": ""
             }
            },
            "type": "scatterternary"
           }
          ],
          "surface": [
           {
            "colorbar": {
             "outlinewidth": 0,
             "ticks": ""
            },
            "colorscale": [
             [
              0,
              "#0d0887"
             ],
             [
              0.1111111111111111,
              "#46039f"
             ],
             [
              0.2222222222222222,
              "#7201a8"
             ],
             [
              0.3333333333333333,
              "#9c179e"
             ],
             [
              0.4444444444444444,
              "#bd3786"
             ],
             [
              0.5555555555555556,
              "#d8576b"
             ],
             [
              0.6666666666666666,
              "#ed7953"
             ],
             [
              0.7777777777777778,
              "#fb9f3a"
             ],
             [
              0.8888888888888888,
              "#fdca26"
             ],
             [
              1,
              "#f0f921"
             ]
            ],
            "type": "surface"
           }
          ],
          "table": [
           {
            "cells": {
             "fill": {
              "color": "#506784"
             },
             "line": {
              "color": "rgb(17,17,17)"
             }
            },
            "header": {
             "fill": {
              "color": "#2a3f5f"
             },
             "line": {
              "color": "rgb(17,17,17)"
             }
            },
            "type": "table"
           }
          ]
         },
         "layout": {
          "annotationdefaults": {
           "arrowcolor": "#f2f5fa",
           "arrowhead": 0,
           "arrowwidth": 1
          },
          "autotypenumbers": "strict",
          "coloraxis": {
           "colorbar": {
            "outlinewidth": 0,
            "ticks": ""
           }
          },
          "colorscale": {
           "diverging": [
            [
             0,
             "#8e0152"
            ],
            [
             0.1,
             "#c51b7d"
            ],
            [
             0.2,
             "#de77ae"
            ],
            [
             0.3,
             "#f1b6da"
            ],
            [
             0.4,
             "#fde0ef"
            ],
            [
             0.5,
             "#f7f7f7"
            ],
            [
             0.6,
             "#e6f5d0"
            ],
            [
             0.7,
             "#b8e186"
            ],
            [
             0.8,
             "#7fbc41"
            ],
            [
             0.9,
             "#4d9221"
            ],
            [
             1,
             "#276419"
            ]
           ],
           "sequential": [
            [
             0,
             "#0d0887"
            ],
            [
             0.1111111111111111,
             "#46039f"
            ],
            [
             0.2222222222222222,
             "#7201a8"
            ],
            [
             0.3333333333333333,
             "#9c179e"
            ],
            [
             0.4444444444444444,
             "#bd3786"
            ],
            [
             0.5555555555555556,
             "#d8576b"
            ],
            [
             0.6666666666666666,
             "#ed7953"
            ],
            [
             0.7777777777777778,
             "#fb9f3a"
            ],
            [
             0.8888888888888888,
             "#fdca26"
            ],
            [
             1,
             "#f0f921"
            ]
           ],
           "sequentialminus": [
            [
             0,
             "#0d0887"
            ],
            [
             0.1111111111111111,
             "#46039f"
            ],
            [
             0.2222222222222222,
             "#7201a8"
            ],
            [
             0.3333333333333333,
             "#9c179e"
            ],
            [
             0.4444444444444444,
             "#bd3786"
            ],
            [
             0.5555555555555556,
             "#d8576b"
            ],
            [
             0.6666666666666666,
             "#ed7953"
            ],
            [
             0.7777777777777778,
             "#fb9f3a"
            ],
            [
             0.8888888888888888,
             "#fdca26"
            ],
            [
             1,
             "#f0f921"
            ]
           ]
          },
          "colorway": [
           "#636efa",
           "#EF553B",
           "#00cc96",
           "#ab63fa",
           "#FFA15A",
           "#19d3f3",
           "#FF6692",
           "#B6E880",
           "#FF97FF",
           "#FECB52"
          ],
          "font": {
           "color": "#f2f5fa"
          },
          "geo": {
           "bgcolor": "rgb(17,17,17)",
           "lakecolor": "rgb(17,17,17)",
           "landcolor": "rgb(17,17,17)",
           "showlakes": true,
           "showland": true,
           "subunitcolor": "#506784"
          },
          "hoverlabel": {
           "align": "left"
          },
          "hovermode": "closest",
          "mapbox": {
           "style": "dark"
          },
          "paper_bgcolor": "rgb(17,17,17)",
          "plot_bgcolor": "rgb(17,17,17)",
          "polar": {
           "angularaxis": {
            "gridcolor": "#506784",
            "linecolor": "#506784",
            "ticks": ""
           },
           "bgcolor": "rgb(17,17,17)",
           "radialaxis": {
            "gridcolor": "#506784",
            "linecolor": "#506784",
            "ticks": ""
           }
          },
          "scene": {
           "xaxis": {
            "backgroundcolor": "rgb(17,17,17)",
            "gridcolor": "#506784",
            "gridwidth": 2,
            "linecolor": "#506784",
            "showbackground": true,
            "ticks": "",
            "zerolinecolor": "#C8D4E3"
           },
           "yaxis": {
            "backgroundcolor": "rgb(17,17,17)",
            "gridcolor": "#506784",
            "gridwidth": 2,
            "linecolor": "#506784",
            "showbackground": true,
            "ticks": "",
            "zerolinecolor": "#C8D4E3"
           },
           "zaxis": {
            "backgroundcolor": "rgb(17,17,17)",
            "gridcolor": "#506784",
            "gridwidth": 2,
            "linecolor": "#506784",
            "showbackground": true,
            "ticks": "",
            "zerolinecolor": "#C8D4E3"
           }
          },
          "shapedefaults": {
           "line": {
            "color": "#f2f5fa"
           }
          },
          "sliderdefaults": {
           "bgcolor": "#C8D4E3",
           "bordercolor": "rgb(17,17,17)",
           "borderwidth": 1,
           "tickwidth": 0
          },
          "ternary": {
           "aaxis": {
            "gridcolor": "#506784",
            "linecolor": "#506784",
            "ticks": ""
           },
           "baxis": {
            "gridcolor": "#506784",
            "linecolor": "#506784",
            "ticks": ""
           },
           "bgcolor": "rgb(17,17,17)",
           "caxis": {
            "gridcolor": "#506784",
            "linecolor": "#506784",
            "ticks": ""
           }
          },
          "title": {
           "x": 0.05
          },
          "updatemenudefaults": {
           "bgcolor": "#506784",
           "borderwidth": 0
          },
          "xaxis": {
           "automargin": true,
           "gridcolor": "#283442",
           "linecolor": "#506784",
           "ticks": "",
           "title": {
            "standoff": 15
           },
           "zerolinecolor": "#283442",
           "zerolinewidth": 2
          },
          "yaxis": {
           "automargin": true,
           "gridcolor": "#283442",
           "linecolor": "#506784",
           "ticks": "",
           "title": {
            "standoff": 15
           },
           "zerolinecolor": "#283442",
           "zerolinewidth": 2
          }
         }
        },
        "title": {
         "text": "Courbe"
        },
        "xaxis": {
         "title": {
          "text": "Intervalle de Temps en Semaine"
         }
        },
        "yaxis": {
         "title": {
          "text": "Temp Moyen (minutes)"
         }
        }
       }
      }
     },
     "metadata": {},
     "output_type": "display_data"
    }
   ],
   "source": [
    "area_graph(df,concern='NomAgence',time='TempOperation',date_to_bin='Date_Fin',seuil=5,title='Courbe')"
   ]
  },
  {
   "cell_type": "code",
   "execution_count": 154,
   "metadata": {},
   "outputs": [
    {
     "data": {
      "text/plain": [
       "array(['Agence_1', 'Agence_19', 'Agence_16', 'Agence_13', 'Agence_6'],\n",
       "      dtype=object)"
      ]
     },
     "execution_count": 154,
     "metadata": {},
     "output_type": "execute_result"
    }
   ],
   "source": [
    "all_combinations['NomAgence'].unique()"
   ]
  },
  {
   "cell_type": "code",
   "execution_count": 114,
   "metadata": {},
   "outputs": [
    {
     "data": {
      "text/html": [
       "\n",
       "<div id=\"altair-viz-46cf2446817243e99289402d1ab6e71c\"></div>\n",
       "<script type=\"text/javascript\">\n",
       "  var VEGA_DEBUG = (typeof VEGA_DEBUG == \"undefined\") ? {} : VEGA_DEBUG;\n",
       "  (function(spec, embedOpt){\n",
       "    let outputDiv = document.currentScript.previousElementSibling;\n",
       "    if (outputDiv.id !== \"altair-viz-46cf2446817243e99289402d1ab6e71c\") {\n",
       "      outputDiv = document.getElementById(\"altair-viz-46cf2446817243e99289402d1ab6e71c\");\n",
       "    }\n",
       "    const paths = {\n",
       "      \"vega\": \"https://cdn.jsdelivr.net/npm//vega@5?noext\",\n",
       "      \"vega-lib\": \"https://cdn.jsdelivr.net/npm//vega-lib?noext\",\n",
       "      \"vega-lite\": \"https://cdn.jsdelivr.net/npm//vega-lite@4.17.0?noext\",\n",
       "      \"vega-embed\": \"https://cdn.jsdelivr.net/npm//vega-embed@6?noext\",\n",
       "    };\n",
       "\n",
       "    function maybeLoadScript(lib, version) {\n",
       "      var key = `${lib.replace(\"-\", \"\")}_version`;\n",
       "      return (VEGA_DEBUG[key] == version) ?\n",
       "        Promise.resolve(paths[lib]) :\n",
       "        new Promise(function(resolve, reject) {\n",
       "          var s = document.createElement('script');\n",
       "          document.getElementsByTagName(\"head\")[0].appendChild(s);\n",
       "          s.async = true;\n",
       "          s.onload = () => {\n",
       "            VEGA_DEBUG[key] = version;\n",
       "            return resolve(paths[lib]);\n",
       "          };\n",
       "          s.onerror = () => reject(`Error loading script: ${paths[lib]}`);\n",
       "          s.src = paths[lib];\n",
       "        });\n",
       "    }\n",
       "\n",
       "    function showError(err) {\n",
       "      outputDiv.innerHTML = `<div class=\"error\" style=\"color:red;\">${err}</div>`;\n",
       "      throw err;\n",
       "    }\n",
       "\n",
       "    function displayChart(vegaEmbed) {\n",
       "      vegaEmbed(outputDiv, spec, embedOpt)\n",
       "        .catch(err => showError(`Javascript Error: ${err.message}<br>This usually means there's a typo in your chart specification. See the javascript console for the full traceback.`));\n",
       "    }\n",
       "\n",
       "    if(typeof define === \"function\" && define.amd) {\n",
       "      requirejs.config({paths});\n",
       "      require([\"vega-embed\"], displayChart, err => showError(`Error loading script: ${err.message}`));\n",
       "    } else {\n",
       "      maybeLoadScript(\"vega\", \"5\")\n",
       "        .then(() => maybeLoadScript(\"vega-lite\", \"4.17.0\"))\n",
       "        .then(() => maybeLoadScript(\"vega-embed\", \"6\"))\n",
       "        .catch(showError)\n",
       "        .then(() => displayChart(vegaEmbed));\n",
       "    }\n",
       "  })({\"config\": {\"view\": {\"continuousWidth\": 400, \"continuousHeight\": 300}}, \"data\": {\"name\": \"data-eafa0b986af0142e480cac597a91f6c5\"}, \"mark\": \"bar\", \"encoding\": {\"color\": {\"field\": \"sub_group\", \"title\": \"Sub Group\", \"type\": \"nominal\"}, \"order\": {\"field\": \"sub_group\", \"type\": \"nominal\"}, \"x\": {\"field\": \"category\", \"title\": \"Category\", \"type\": \"ordinal\"}, \"y\": {\"aggregate\": \"sum\", \"field\": \"value\", \"title\": \"Value\", \"type\": \"quantitative\"}}, \"height\": 400, \"width\": 600, \"$schema\": \"https://vega.github.io/schema/vega-lite/v4.17.0.json\", \"datasets\": {\"data-eafa0b986af0142e480cac597a91f6c5\": [{\"category\": \"A\", \"sub_group\": \"X\", \"value\": 10}, {\"category\": \"A\", \"sub_group\": \"Y\", \"value\": 15}, {\"category\": \"B\", \"sub_group\": \"X\", \"value\": 20}, {\"category\": \"B\", \"sub_group\": \"Y\", \"value\": 25}, {\"category\": \"C\", \"sub_group\": \"X\", \"value\": 30}, {\"category\": \"C\", \"sub_group\": \"Y\", \"value\": 35}]}}, {\"mode\": \"vega-lite\"});\n",
       "</script>"
      ],
      "text/plain": [
       "alt.Chart(...)"
      ]
     },
     "execution_count": 114,
     "metadata": {},
     "output_type": "execute_result"
    }
   ],
   "source": [
    "import altair as alt\n",
    "import pandas as pd\n",
    "import streamlit as st\n",
    "\n",
    "# Sample data\n",
    "data = pd.DataFrame({\n",
    "    'category': ['A', 'A', 'B', 'B', 'C', 'C'],\n",
    "    'sub_group': ['X', 'Y', 'X', 'Y', 'X', 'Y'],\n",
    "    'value': [10, 15, 20, 25, 30, 35]\n",
    "})\n",
    "\n",
    "# Create the Stacked Bar Chart\n",
    "chart = alt.Chart(data).mark_bar().encode(\n",
    "    x=alt.X('category:O', title='Category'),\n",
    "    y=alt.Y('sum(value):Q', title='Value'),\n",
    "    color=alt.Color('sub_group:N', title='Sub Group'),\n",
    "    order=alt.Order('sub_group:N')  # To ensure stacking order\n",
    ").properties(\n",
    "    width=600,\n",
    "    height=400\n",
    ")\n",
    "\n",
    "# Display in Streamlit\n",
    "st.write(\"Stacked Bar Chart Example\")\n",
    "chart\n"
   ]
  },
  {
   "cell_type": "code",
   "execution_count": null,
   "metadata": {},
   "outputs": [],
   "source": []
  },
  {
   "cell_type": "code",
   "execution_count": 71,
   "metadata": {},
   "outputs": [],
   "source": [
    "df['Time_Bin'] = df['Date_Reservation'].apply(lambda x: assign_to_bin(x,bins))"
   ]
  },
  {
   "cell_type": "code",
   "execution_count": 77,
   "metadata": {},
   "outputs": [
    {
     "data": {
      "text/html": [
       "<div>\n",
       "<style scoped>\n",
       "    .dataframe tbody tr th:only-of-type {\n",
       "        vertical-align: middle;\n",
       "    }\n",
       "\n",
       "    .dataframe tbody tr th {\n",
       "        vertical-align: top;\n",
       "    }\n",
       "\n",
       "    .dataframe thead th {\n",
       "        text-align: right;\n",
       "    }\n",
       "</style>\n",
       "<table border=\"1\" class=\"dataframe\">\n",
       "  <thead>\n",
       "    <tr style=\"text-align: right;\">\n",
       "      <th></th>\n",
       "      <th>FirstName</th>\n",
       "      <th>LastName</th>\n",
       "      <th>UserName</th>\n",
       "      <th>Date_Reservation</th>\n",
       "      <th>Date_Appel</th>\n",
       "      <th>TempAttenteMoyen</th>\n",
       "      <th>TempsAttenteReel</th>\n",
       "      <th>Date_Fin</th>\n",
       "      <th>TempOperation</th>\n",
       "      <th>Nom</th>\n",
       "      <th>NomService</th>\n",
       "      <th>Type_Operation</th>\n",
       "      <th>AgenceId</th>\n",
       "      <th>NomAgence</th>\n",
       "      <th>Capacites</th>\n",
       "      <th>Longitude</th>\n",
       "      <th>Latitude</th>\n",
       "      <th>Time_Bin</th>\n",
       "    </tr>\n",
       "  </thead>\n",
       "  <tbody>\n",
       "    <tr>\n",
       "      <th>0</th>\n",
       "      <td>LEON MARCELIN</td>\n",
       "      <td>NDONG</td>\n",
       "      <td>LNDONG2</td>\n",
       "      <td>2024-08-06 15:31:47.483</td>\n",
       "      <td>2024-08-06 17:51:14.157</td>\n",
       "      <td>38.0</td>\n",
       "      <td>8367.0</td>\n",
       "      <td>NaT</td>\n",
       "      <td>NaN</td>\n",
       "      <td>En attente</td>\n",
       "      <td>Caisse</td>\n",
       "      <td>None</td>\n",
       "      <td>32</td>\n",
       "      <td>Agence Principale</td>\n",
       "      <td>30</td>\n",
       "      <td>-17.469949</td>\n",
       "      <td>14.70138</td>\n",
       "      <td>2024-08-02 to 2024-08-06</td>\n",
       "    </tr>\n",
       "    <tr>\n",
       "      <th>1</th>\n",
       "      <td>LEON MARCELIN</td>\n",
       "      <td>NDONG</td>\n",
       "      <td>LNDONG2</td>\n",
       "      <td>2024-08-06 15:31:26.183</td>\n",
       "      <td>2024-08-06 17:21:41.437</td>\n",
       "      <td>37.0</td>\n",
       "      <td>6615.0</td>\n",
       "      <td>2024-08-06 17:51:13.153</td>\n",
       "      <td>1772.0</td>\n",
       "      <td>Traitée</td>\n",
       "      <td>Caisse</td>\n",
       "      <td>None</td>\n",
       "      <td>32</td>\n",
       "      <td>Agence Principale</td>\n",
       "      <td>30</td>\n",
       "      <td>-17.469949</td>\n",
       "      <td>14.70138</td>\n",
       "      <td>2024-08-02 to 2024-08-06</td>\n",
       "    </tr>\n",
       "    <tr>\n",
       "      <th>2</th>\n",
       "      <td>LEON MARCELIN</td>\n",
       "      <td>NDONG</td>\n",
       "      <td>LNDONG2</td>\n",
       "      <td>2024-08-06 15:31:04.417</td>\n",
       "      <td>2024-08-06 17:20:47.487</td>\n",
       "      <td>37.0</td>\n",
       "      <td>6583.0</td>\n",
       "      <td>2024-08-06 17:21:41.433</td>\n",
       "      <td>54.0</td>\n",
       "      <td>Traitée</td>\n",
       "      <td>Caisse</td>\n",
       "      <td>None</td>\n",
       "      <td>32</td>\n",
       "      <td>Agence Principale</td>\n",
       "      <td>30</td>\n",
       "      <td>-17.469949</td>\n",
       "      <td>14.70138</td>\n",
       "      <td>2024-08-02 to 2024-08-06</td>\n",
       "    </tr>\n",
       "    <tr>\n",
       "      <th>3</th>\n",
       "      <td>LEON MARCELIN</td>\n",
       "      <td>NDONG</td>\n",
       "      <td>LNDONG2</td>\n",
       "      <td>2024-08-06 15:30:42.700</td>\n",
       "      <td>2024-08-06 17:17:01.717</td>\n",
       "      <td>33.0</td>\n",
       "      <td>6379.0</td>\n",
       "      <td>2024-08-06 17:20:47.480</td>\n",
       "      <td>226.0</td>\n",
       "      <td>Traitée</td>\n",
       "      <td>Caisse</td>\n",
       "      <td>None</td>\n",
       "      <td>32</td>\n",
       "      <td>Agence Principale</td>\n",
       "      <td>30</td>\n",
       "      <td>-17.469949</td>\n",
       "      <td>14.70138</td>\n",
       "      <td>2024-08-02 to 2024-08-06</td>\n",
       "    </tr>\n",
       "    <tr>\n",
       "      <th>4</th>\n",
       "      <td>LEON MARCELIN</td>\n",
       "      <td>NDONG</td>\n",
       "      <td>LNDONG2</td>\n",
       "      <td>2024-08-06 15:30:20.703</td>\n",
       "      <td>2024-08-06 17:08:04.010</td>\n",
       "      <td>33.0</td>\n",
       "      <td>5864.0</td>\n",
       "      <td>2024-08-06 17:21:40.533</td>\n",
       "      <td>816.0</td>\n",
       "      <td>Passée</td>\n",
       "      <td>Caisse</td>\n",
       "      <td>None</td>\n",
       "      <td>32</td>\n",
       "      <td>Agence Principale</td>\n",
       "      <td>30</td>\n",
       "      <td>-17.469949</td>\n",
       "      <td>14.70138</td>\n",
       "      <td>2024-08-02 to 2024-08-06</td>\n",
       "    </tr>\n",
       "    <tr>\n",
       "      <th>...</th>\n",
       "      <td>...</td>\n",
       "      <td>...</td>\n",
       "      <td>...</td>\n",
       "      <td>...</td>\n",
       "      <td>...</td>\n",
       "      <td>...</td>\n",
       "      <td>...</td>\n",
       "      <td>...</td>\n",
       "      <td>...</td>\n",
       "      <td>...</td>\n",
       "      <td>...</td>\n",
       "      <td>...</td>\n",
       "      <td>...</td>\n",
       "      <td>...</td>\n",
       "      <td>...</td>\n",
       "      <td>...</td>\n",
       "      <td>...</td>\n",
       "      <td>...</td>\n",
       "    </tr>\n",
       "    <tr>\n",
       "      <th>10079</th>\n",
       "      <td>LEON MARCELIN</td>\n",
       "      <td>NDONG</td>\n",
       "      <td>LNDONG2</td>\n",
       "      <td>2024-06-07 07:32:27.427</td>\n",
       "      <td>2024-06-07 08:05:09.973</td>\n",
       "      <td>0.0</td>\n",
       "      <td>1962.0</td>\n",
       "      <td>2024-06-07 08:08:19.713</td>\n",
       "      <td>190.0</td>\n",
       "      <td>Traitée</td>\n",
       "      <td>Caisse</td>\n",
       "      <td>None</td>\n",
       "      <td>32</td>\n",
       "      <td>Agence Principale</td>\n",
       "      <td>30</td>\n",
       "      <td>-17.469949</td>\n",
       "      <td>14.70138</td>\n",
       "      <td>2024-06-07 to 2024-06-13</td>\n",
       "    </tr>\n",
       "    <tr>\n",
       "      <th>10080</th>\n",
       "      <td>AMINATA</td>\n",
       "      <td>SANE</td>\n",
       "      <td>amisane</td>\n",
       "      <td>2024-06-07 07:32:15.263</td>\n",
       "      <td>2024-06-07 07:59:42.827</td>\n",
       "      <td>0.0</td>\n",
       "      <td>1647.0</td>\n",
       "      <td>2024-06-07 08:13:43.730</td>\n",
       "      <td>841.0</td>\n",
       "      <td>Traitée</td>\n",
       "      <td>Caisse</td>\n",
       "      <td>None</td>\n",
       "      <td>32</td>\n",
       "      <td>Agence Principale</td>\n",
       "      <td>30</td>\n",
       "      <td>-17.469949</td>\n",
       "      <td>14.70138</td>\n",
       "      <td>2024-06-07 to 2024-06-13</td>\n",
       "    </tr>\n",
       "    <tr>\n",
       "      <th>10081</th>\n",
       "      <td>AMINATA</td>\n",
       "      <td>SANE</td>\n",
       "      <td>amisane</td>\n",
       "      <td>2024-06-07 07:32:07.150</td>\n",
       "      <td>2024-06-07 07:50:59.710</td>\n",
       "      <td>0.0</td>\n",
       "      <td>1132.0</td>\n",
       "      <td>2024-06-07 07:59:42.820</td>\n",
       "      <td>523.0</td>\n",
       "      <td>Traitée</td>\n",
       "      <td>Caisse</td>\n",
       "      <td>None</td>\n",
       "      <td>32</td>\n",
       "      <td>Agence Principale</td>\n",
       "      <td>30</td>\n",
       "      <td>-17.469949</td>\n",
       "      <td>14.70138</td>\n",
       "      <td>2024-06-07 to 2024-06-13</td>\n",
       "    </tr>\n",
       "    <tr>\n",
       "      <th>10082</th>\n",
       "      <td>AMINATA</td>\n",
       "      <td>SANE</td>\n",
       "      <td>amisane</td>\n",
       "      <td>2024-06-07 07:31:42.620</td>\n",
       "      <td>2024-06-07 07:50:48.230</td>\n",
       "      <td>0.0</td>\n",
       "      <td>1146.0</td>\n",
       "      <td>2024-06-07 07:50:59.703</td>\n",
       "      <td>11.0</td>\n",
       "      <td>Traitée</td>\n",
       "      <td>Caisse</td>\n",
       "      <td>None</td>\n",
       "      <td>32</td>\n",
       "      <td>Agence Principale</td>\n",
       "      <td>30</td>\n",
       "      <td>-17.469949</td>\n",
       "      <td>14.70138</td>\n",
       "      <td>2024-06-07 to 2024-06-13</td>\n",
       "    </tr>\n",
       "    <tr>\n",
       "      <th>10083</th>\n",
       "      <td>AMINATA</td>\n",
       "      <td>SANE</td>\n",
       "      <td>amisane</td>\n",
       "      <td>2024-06-07 07:31:39.767</td>\n",
       "      <td>2024-06-07 07:50:34.687</td>\n",
       "      <td>0.0</td>\n",
       "      <td>1135.0</td>\n",
       "      <td>2024-06-07 07:50:48.223</td>\n",
       "      <td>14.0</td>\n",
       "      <td>Traitée</td>\n",
       "      <td>Caisse</td>\n",
       "      <td>None</td>\n",
       "      <td>32</td>\n",
       "      <td>Agence Principale</td>\n",
       "      <td>30</td>\n",
       "      <td>-17.469949</td>\n",
       "      <td>14.70138</td>\n",
       "      <td>2024-06-07 to 2024-06-13</td>\n",
       "    </tr>\n",
       "  </tbody>\n",
       "</table>\n",
       "<p>10084 rows × 18 columns</p>\n",
       "</div>"
      ],
      "text/plain": [
       "            FirstName LastName UserName        Date_Reservation  \\\n",
       "0      LEON MARCELIN     NDONG  LNDONG2 2024-08-06 15:31:47.483   \n",
       "1      LEON MARCELIN     NDONG  LNDONG2 2024-08-06 15:31:26.183   \n",
       "2      LEON MARCELIN     NDONG  LNDONG2 2024-08-06 15:31:04.417   \n",
       "3      LEON MARCELIN     NDONG  LNDONG2 2024-08-06 15:30:42.700   \n",
       "4      LEON MARCELIN     NDONG  LNDONG2 2024-08-06 15:30:20.703   \n",
       "...               ...      ...      ...                     ...   \n",
       "10079  LEON MARCELIN     NDONG  LNDONG2 2024-06-07 07:32:27.427   \n",
       "10080        AMINATA      SANE  amisane 2024-06-07 07:32:15.263   \n",
       "10081        AMINATA      SANE  amisane 2024-06-07 07:32:07.150   \n",
       "10082        AMINATA      SANE  amisane 2024-06-07 07:31:42.620   \n",
       "10083        AMINATA      SANE  amisane 2024-06-07 07:31:39.767   \n",
       "\n",
       "                   Date_Appel  TempAttenteMoyen  TempsAttenteReel  \\\n",
       "0     2024-08-06 17:51:14.157              38.0            8367.0   \n",
       "1     2024-08-06 17:21:41.437              37.0            6615.0   \n",
       "2     2024-08-06 17:20:47.487              37.0            6583.0   \n",
       "3     2024-08-06 17:17:01.717              33.0            6379.0   \n",
       "4     2024-08-06 17:08:04.010              33.0            5864.0   \n",
       "...                       ...               ...               ...   \n",
       "10079 2024-06-07 08:05:09.973               0.0            1962.0   \n",
       "10080 2024-06-07 07:59:42.827               0.0            1647.0   \n",
       "10081 2024-06-07 07:50:59.710               0.0            1132.0   \n",
       "10082 2024-06-07 07:50:48.230               0.0            1146.0   \n",
       "10083 2024-06-07 07:50:34.687               0.0            1135.0   \n",
       "\n",
       "                     Date_Fin  TempOperation         Nom NomService  \\\n",
       "0                         NaT            NaN  En attente     Caisse   \n",
       "1     2024-08-06 17:51:13.153         1772.0     Traitée     Caisse   \n",
       "2     2024-08-06 17:21:41.433           54.0     Traitée     Caisse   \n",
       "3     2024-08-06 17:20:47.480          226.0     Traitée     Caisse   \n",
       "4     2024-08-06 17:21:40.533          816.0      Passée     Caisse   \n",
       "...                       ...            ...         ...        ...   \n",
       "10079 2024-06-07 08:08:19.713          190.0     Traitée     Caisse   \n",
       "10080 2024-06-07 08:13:43.730          841.0     Traitée     Caisse   \n",
       "10081 2024-06-07 07:59:42.820          523.0     Traitée     Caisse   \n",
       "10082 2024-06-07 07:50:59.703           11.0     Traitée     Caisse   \n",
       "10083 2024-06-07 07:50:48.223           14.0     Traitée     Caisse   \n",
       "\n",
       "      Type_Operation  AgenceId          NomAgence  Capacites  Longitude  \\\n",
       "0               None        32  Agence Principale         30 -17.469949   \n",
       "1               None        32  Agence Principale         30 -17.469949   \n",
       "2               None        32  Agence Principale         30 -17.469949   \n",
       "3               None        32  Agence Principale         30 -17.469949   \n",
       "4               None        32  Agence Principale         30 -17.469949   \n",
       "...              ...       ...                ...        ...        ...   \n",
       "10079           None        32  Agence Principale         30 -17.469949   \n",
       "10080           None        32  Agence Principale         30 -17.469949   \n",
       "10081           None        32  Agence Principale         30 -17.469949   \n",
       "10082           None        32  Agence Principale         30 -17.469949   \n",
       "10083           None        32  Agence Principale         30 -17.469949   \n",
       "\n",
       "       Latitude                  Time_Bin  \n",
       "0      14.70138  2024-08-02 to 2024-08-06  \n",
       "1      14.70138  2024-08-02 to 2024-08-06  \n",
       "2      14.70138  2024-08-02 to 2024-08-06  \n",
       "3      14.70138  2024-08-02 to 2024-08-06  \n",
       "4      14.70138  2024-08-02 to 2024-08-06  \n",
       "...         ...                       ...  \n",
       "10079  14.70138  2024-06-07 to 2024-06-13  \n",
       "10080  14.70138  2024-06-07 to 2024-06-13  \n",
       "10081  14.70138  2024-06-07 to 2024-06-13  \n",
       "10082  14.70138  2024-06-07 to 2024-06-13  \n",
       "10083  14.70138  2024-06-07 to 2024-06-13  \n",
       "\n",
       "[10084 rows x 18 columns]"
      ]
     },
     "execution_count": 77,
     "metadata": {},
     "output_type": "execute_result"
    }
   ],
   "source": [
    "df"
   ]
  },
  {
   "cell_type": "code",
   "execution_count": 23,
   "metadata": {},
   "outputs": [
    {
     "data": {
      "text/plain": [
       "[]"
      ]
     },
     "execution_count": 23,
     "metadata": {},
     "output_type": "execute_result"
    }
   ],
   "source": []
  },
  {
   "cell_type": "code",
   "execution_count": null,
   "metadata": {},
   "outputs": [],
   "source": []
  }
 ],
 "metadata": {
  "kernelspec": {
   "display_name": "base",
   "language": "python",
   "name": "python3"
  },
  "language_info": {
   "codemirror_mode": {
    "name": "ipython",
    "version": 3
   },
   "file_extension": ".py",
   "mimetype": "text/x-python",
   "name": "python",
   "nbconvert_exporter": "python",
   "pygments_lexer": "ipython3",
   "version": "3.10.13"
  }
 },
 "nbformat": 4,
 "nbformat_minor": 2
}
